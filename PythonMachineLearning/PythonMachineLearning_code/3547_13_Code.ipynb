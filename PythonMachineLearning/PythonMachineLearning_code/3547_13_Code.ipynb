{
 "cells": [
  {
   "cell_type": "markdown",
   "metadata": {},
   "source": [
    "Sebastian Raschka, 2015"
   ]
  },
  {
   "cell_type": "markdown",
   "metadata": {},
   "source": [
    "# Python Machine Learning"
   ]
  },
  {
   "cell_type": "markdown",
   "metadata": {},
   "source": [
    "# Chapter 13 - Parallelizing Neural Network Training with Theano"
   ]
  },
  {
   "cell_type": "markdown",
   "metadata": {},
   "source": [
    "Note that the optional watermark extension is a small IPython notebook plugin that I developed to make the code reproducible. You can just skip the following line(s)."
   ]
  },
  {
   "cell_type": "code",
   "execution_count": 1,
   "metadata": {
    "collapsed": false
   },
   "outputs": [
    {
     "name": "stdout",
     "output_type": "stream",
     "text": [
      "Sebastian Raschka \nLast updated: 03/26/2016 \n\nCPython 3.5.1\nIPython 4.0.1\n\nnumpy 1.10.2\nmatplotlib 1.5.0\ntheano 0.7.0\nkeras 0.3.2\n"
     ]
    }
   ],
   "source": [
    "%load_ext watermark\n",
    "%watermark -a 'Sebastian Raschka' -u -d -v -p numpy,matplotlib,theano,keras"
   ]
  },
  {
   "cell_type": "markdown",
   "metadata": {},
   "source": [
    "Jim comments:\n",
    "* Installed keras 0.3.2 using:\n",
    "    * sudo pip install keras\n",
    "    * Pre-requisites theano, pyyaml, six, scipy and numpy all satisfied out of Anaconda installation.\n"
   ]
  },
  {
   "cell_type": "code",
   "execution_count": 2,
   "metadata": {
    "collapsed": true
   },
   "outputs": [],
   "source": [
    "# to install watermark just uncomment the following line:\n",
    "#%install_ext https://raw.githubusercontent.com/rasbt/watermark/master/watermark.py"
   ]
  },
  {
   "cell_type": "markdown",
   "metadata": {},
   "source": [
    "## Sections\n",
    "\n",
    "- [Building, compiling, and running expressions with Theano](#Building,-compiling,-and-running-expressions-with-Theano)\n",
    "    - [First steps with Theano](#First-steps-with-Theano)\n",
    "    - [Configuring Theano](#Configuring-Theano)\n",
    "    - [Working with array structures](#Working-with-array-structures)\n",
    "    - [Wrapping things up: A linear regression example](#Wrapping-things-up:-A--linear-regression-example)\n",
    "- [Choosing activation functions for feedforward neural networks](#Choosing-activation-functions-for-feedforward-neural-networks)\n",
    "    - [Logistic function recap](#Logistic-function-recap)\n",
    "    - [Estimating probabilities in multi-class classification via the softmax function](#Estimating-probabilities-in-multi-class-classification-via-the-softmax-function)\n",
    "    - [Broadening the output spectrum using a hyperbolic tangent](#Broadening-the-output-spectrum-using-a-hyperbolic-tangent)"
   ]
  },
  {
   "cell_type": "markdown",
   "metadata": {},
   "source": [
    "<br>\n",
    "<br>"
   ]
  },
  {
   "cell_type": "markdown",
   "metadata": {},
   "source": [
    "# Building, compiling, and running expressions with Theano"
   ]
  },
  {
   "cell_type": "markdown",
   "metadata": {},
   "source": [
    "[[back to top](#Sections)]"
   ]
  },
  {
   "cell_type": "markdown",
   "metadata": {},
   "source": [
    "Depending on your system setup, it is typically sufficient to install Theano via\n",
    "\n",
    "    pip install Theano\n",
    "    \n",
    "For more help with the installation, please see: http://deeplearning.net/software/theano/install.html"
   ]
  },
  {
   "cell_type": "markdown",
   "metadata": {},
   "source": [
    "<br>\n",
    "<br>"
   ]
  },
  {
   "cell_type": "markdown",
   "metadata": {},
   "source": [
    "## First steps with Theano"
   ]
  },
  {
   "cell_type": "markdown",
   "metadata": {},
   "source": [
    "Introducing the TensorType variables. For a complete list, see http://deeplearning.net/software/theano/library/tensor/basic.html#all-fully-typed-constructors"
   ]
  },
  {
   "cell_type": "code",
   "execution_count": 3,
   "metadata": {
    "collapsed": false
   },
   "outputs": [
    {
     "name": "stdout",
     "output_type": "stream",
     "text": [
      "===============================\n===============================\nclang: error: unknown argument: '-target-feature'\nclang: error: unknown argument: '-sse4a'\nclang: error: unknown argument: '-target-feature'\nclang: error: unknown argument: '-target-feature'\nclang: error: unknown argument: '-target-feature'\nclang: error: unknown argument: '-tbm'\nclang: error: unknown argument: '-target-feature'\nclang: error: unknown argument: '-target-feature'\nclang: error: unknown argument: '-fma4'\nclang: error: unknown argument: '-target-feature'\nclang: error: unknown argument: '-target-feature'\nclang: error: unknown argument: '-target-feature'\nclang: error: unknown argument: '-target-feature'\nclang: error: unknown argument: '-target-feature'\nclang: error: unknown argument: '-target-feature'\nclang: error: unknown argument: '-target-feature'\nclang: error: unknown argument: '-target-feature'\nclang: error: unknown argument: '-target-feature'\nclang: error: unknown argument: '-target-feature'\nclang: error: unknown argument: '-target-feature'\nclang: error: unknown argument: '-target-feature'\nclang: error: unknown argument: '-target-feature'\nclang: error: unknown argument: '-target-feature'\nclang: error: unknown argument: '-target-feature'\nclang: error: unknown argument: '-target-feature'\nclang: error: unknown argument: '-target-feature'\nclang: error: unknown argument: '-target-feature'\nclang: error: unknown argument: '-target-feature'\nclang: error: unknown argument: '-target-feature'\nclang: error: unknown argument: '-target-feature'\nclang: error: unknown argument: '-target-feature'\nclang: error: unknown argument: '-target-feature'\nclang: error: unknown argument: '-target-feature'\nclang: error: unknown argument: '-target-feature'\nclang: error: unknown argument: '-target-feature'\nclang: error: unknown argument: '-target-feature'\nclang: error: unknown argument: '-target-feature'\nclang: error: unknown argument: '-target-feature'\nclang: error: unknown argument: '-target-feature'\nclang: error: unknown argument: '-target-feature'\nclang: error: unknown argument: '-target-feature'\nclang: error: unknown argument: '-target-feature'\nclang: error: unknown argument: '-target-feature'\nclang: error: unknown argument: '-sha'\nclang: error: unknown argument: '-target-feature'\nclang: error: unknown argument: '-target-feature'\nclang: error: unknown argument: '-target-feature'\nclang: error: no such file or directory: '+cx16'\nclang: error: no such file or directory: '+xsave'\nclang: error: no such file or directory: '+prfchw'\nclang: error: no such file or directory: '+bmi2'\nclang: error: no such file or directory: '+adx'\nclang: error: no such file or directory: '+xsavec'\nclang: error: no such file or directory: '+fsgsbase'\nclang: error: no such file or directory: '+avx'\nclang: error: no such file or directory: '+rtm'\nclang: error: no such file or directory: '+popcnt'\nclang: error: no such file or directory: '+fma'\nclang: error: no such file or directory: '+bmi'\nclang: error: no such file or directory: '+aes'\nclang: error: no such file or directory: '+rdrnd'\nclang: error: no such file or directory: '+xsaves'\nclang: error: no such file or directory: '+sse4.1'\nclang: error: no such file or directory: '+sse4.2'\nclang: error: no such file or directory: '+avx2'\nclang: error: no such file or directory: '+sse'\nclang: error: no such file or directory: '+lzcnt'\nclang: error: no such file or directory: '+pclmul'\nclang: error: no such file or directory: '+f16c'\nclang: error: no such file or directory: '+ssse3'\nclang: error: no such file or directory: '+mmx'\nclang: error: no such file or directory: '+cmov'\nclang: error: language not recognized: 'op'\nclang: error: no such file or directory: '+rdseed'\nclang: error: no such file or directory: '+movbe'\nclang: error: no such file or directory: '+hle'\nclang: error: no such file or directory: '+xsaveopt'\nclang: error: no such file or directory: '+sse2'\nclang: error: no such file or directory: '+sse3'\n\n"
     ]
    },
    {
     "name": "stderr",
     "output_type": "stream",
     "text": [
      "00001\t#include <Python.h>\n00002\t#include \"structmember.h\"\n00003\t#include <sys/time.h>\n00004\t\n00005\t// Old Python compatibility from here:\n00006\t// http://www.python.org/dev/peps/pep-0353/\n00007\t#if PY_VERSION_HEX < 0x02050000 && !defined(PY_SSIZE_T_MIN)\n00008\ttypedef int Py_ssize_t;\n00009\t#define PY_SSIZE_T_MAX INT_MAX\n00010\t#define PY_SSIZE_T_MIN INT_MIN\n00011\t// This one was taken from:\n00012\t// http://svn.python.org/projects/python/trunk/Modules/_ctypes/ctypes.h\n00013\t#define PyNumber_AsSsize_t(ob, exc) PyInt_AsLong(ob)\n00014\t#endif\n00015\t\n00016\t#if PY_VERSION_HEX >= 0x03000000\n00017\t#include \"numpy/npy_3kcompat.h\"\n00018\t#define PyCObject_AsVoidPtr  NpyCapsule_AsVoidPtr\n00019\t#define PyCObject_GetDesc  NpyCapsule_GetDesc\n00020\t#define PyCObject_Check NpyCapsule_Check\n00021\t#endif\n00022\t\n00023\t#ifndef Py_TYPE\n00024\t#define Py_TYPE(obj) obj->ob_type\n00025\t#endif\n00026\t\n00027\t/**\n00028\t\n00029\tTODO: \n00030\t- Check max supported depth of recursion\n00031\t- CLazyLinker should add context information to errors caught during evaluation. Say what node we were on, add the traceback attached to the node.\n00032\t- Clear containers of fully-useed intermediate results if allow_gc is 1\n00033\t- Add timers for profiling\n00034\t- Add support for profiling space used.\n00035\t\n00036\t\n00037\t  */\n00038\tstatic double pytime(const struct timeval * tv)\n00039\t{\n00040\t  struct timeval t;\n00041\t  if (!tv)\n00042\t    {\n00043\t      tv = &t;\n00044\t      gettimeofday(&t, NULL);\n00045\t    }\n00046\t  return (double) tv->tv_sec + (double) tv->tv_usec / 1000000.0;\n00047\t}\n00048\t\n00049\t/**\n00050\t  Helper routine to convert a PyList of integers to a c array of integers.\n00051\t  */\n00052\tstatic int unpack_list_of_ssize_t(PyObject * pylist, Py_ssize_t **dst, Py_ssize_t *len,\n00053\t                                  const char* kwname)\n00054\t{\n00055\t  Py_ssize_t buflen, *buf;\n00056\t  if (!PyList_Check(pylist))\n00057\t    {\n00058\t      PyErr_Format(PyExc_TypeError, \"%s must be list\", kwname);\n00059\t      return -1;\n00060\t    }\n00061\t  assert (NULL == *dst);\n00062\t  *len = buflen = PyList_Size(pylist);\n00063\t  *dst = buf = (Py_ssize_t*)calloc(buflen, sizeof(Py_ssize_t));\n00064\t  assert(buf);\n00065\t  for (int ii = 0; ii < buflen; ++ii)\n00066\t    {\n00067\t      PyObject * el_i = PyList_GetItem(pylist, ii);\n00068\t      Py_ssize_t n_i = PyNumber_AsSsize_t(el_i, PyExc_IndexError);\n00069\t      if (PyErr_Occurred())\n00070\t        {\n00071\t          free(buf);\n00072\t          *dst = NULL;\n00073\t          return -1;\n00074\t        }\n00075\t      buf[ii] = n_i;\n00076\t    }\n00077\t  return 0;\n00078\t}\n00079\t\n00080\t/**\n00081\t\n00082\t  CLazyLinker\n00083\t\n00084\t\n00085\t  */\n00086\ttypedef struct {\n00087\t    PyObject_HEAD\n00088\t    /* Type-specific fields go here. */\n00089\t    PyObject * nodes; // the python list of nodes\n00090\t    PyObject * thunks; // python list of thunks\n00091\t    PyObject * pre_call_clear; //list of cells to clear on call.\n00092\t    int allow_gc;\n00093\t    Py_ssize_t n_applies;\n00094\t    int n_vars;    // number of variables in the graph\n00095\t    int * var_computed; // 1 or 0 for every variable\n00096\t    PyObject ** var_computed_cells;\n00097\t    PyObject ** var_value_cells;\n00098\t    Py_ssize_t **dependencies; // list of vars dependencies for GC\n00099\t    Py_ssize_t *n_dependencies;\n00100\t\n00101\t    Py_ssize_t n_output_vars;\n00102\t    Py_ssize_t * output_vars; // variables that *must* be evaluated by call\n00103\t\n00104\t    int * is_lazy; // 1 or 0 for every thunk\n00105\t\n00106\t    Py_ssize_t * var_owner; // nodes[[var_owner[var_idx]]] is var[var_idx]->owner\n00107\t    int * var_has_owner; //  1 or 0\n00108\t\n00109\t    Py_ssize_t * node_n_inputs;\n00110\t    Py_ssize_t * node_n_outputs;\n00111\t    Py_ssize_t ** node_inputs;\n00112\t    Py_ssize_t ** node_outputs;\n00113\t    Py_ssize_t * node_inputs_outputs_base; // node_inputs and node_outputs point into this\n00114\t    Py_ssize_t * node_n_prereqs;\n00115\t    Py_ssize_t ** node_prereqs;\n00116\t\n00117\t    Py_ssize_t * update_storage; // input cells to update with the last outputs in output_vars\n00118\t    Py_ssize_t n_updates;\n00119\t\n00120\t    void ** thunk_cptr_fn;\n00121\t    void ** thunk_cptr_data;\n00122\t    PyObject * call_times;\n00123\t    PyObject * call_counts;\n00124\t    int do_timing;\n00125\t    int need_update_inputs;\n00126\t    int position_of_error; // -1 for no error, otw the index into `thunks` that failed.\n00127\t} CLazyLinker;\n00128\t\n00129\t\n00130\tstatic void\n00131\tCLazyLinker_dealloc(PyObject* _self)\n00132\t{\n00133\t  CLazyLinker* self = (CLazyLinker *) _self;\n00134\t  free(self->thunk_cptr_fn);\n00135\t  free(self->thunk_cptr_data);\n00136\t\n00137\t  free(self->is_lazy);\n00138\t\n00139\t  free(self->update_storage);\n00140\t\n00141\t  if (self->node_n_prereqs)\n00142\t    {\n00143\t      for (int i = 0; i < self->n_applies; ++i)\n00144\t        {\n00145\t          free(self->node_prereqs[i]);\n00146\t        }\n00147\t    }\n00148\t  free(self->node_n_prereqs);\n00149\t  free(self->node_prereqs);\n00150\t  free(self->node_inputs_outputs_base);\n00151\t  free(self->node_n_inputs);\n00152\t  free(self->node_n_outputs);\n00153\t  free(self->node_inputs);\n00154\t  free(self->node_outputs);\n00155\t\n00156\t  if (self->dependencies)\n00157\t    {\n00158\t      for (int i = 0; i < self->n_vars; ++i)\n00159\t        {\n00160\t          free(self->dependencies[i]);\n00161\t        }\n00162\t      free(self->dependencies);\n00163\t      free(self->n_dependencies);\n00164\t    }\n00165\t\n00166\t  free(self->var_owner);\n00167\t  free(self->var_has_owner);\n00168\t  free(self->var_computed);\n00169\t  if (self->var_computed_cells)\n00170\t    {\n00171\t      for (int i = 0; i < self->n_vars; ++i)\n00172\t        {\n00173\t          Py_DECREF(self->var_computed_cells[i]);\n00174\t          Py_DECREF(self->var_value_cells[i]);\n00175\t        }\n00176\t    }\n00177\t  free(self->var_computed_cells);\n00178\t  free(self->var_value_cells);\n00179\t  free(self->output_vars);\n00180\t\n00181\t  Py_XDECREF(self->nodes);\n00182\t  Py_XDECREF(self->thunks);\n00183\t  Py_XDECREF(self->call_times);\n00184\t  Py_XDECREF(self->call_counts);\n00185\t  Py_XDECREF(self->pre_call_clear);\n00186\t  Py_TYPE(self)->tp_free((PyObject*)self);\n00187\t}\n00188\tstatic PyObject *\n00189\tCLazyLinker_new(PyTypeObject *type, PyObject *args, PyObject *kwds)\n00190\t{\n00191\t    CLazyLinker *self;\n00192\t\n00193\t    self = (CLazyLinker *)type->tp_alloc(type, 0);\n00194\t    if (self != NULL) {\n00195\t      self->nodes = NULL;\n00196\t      self->thunks = NULL;\n00197\t      self->pre_call_clear = NULL;\n00198\t\n00199\t      self->allow_gc = 1;\n00200\t      self->n_applies = 0;\n00201\t      self->n_vars = 0;\n00202\t      self->var_computed = NULL;\n00203\t      self->var_computed_cells = NULL;\n00204\t      self->var_value_cells = NULL;\n00205\t      self->dependencies = NULL;\n00206\t      self->n_dependencies = NULL;\n00207\t\n00208\t      self->n_output_vars = 0;\n00209\t      self->output_vars = NULL;\n00210\t\n00211\t      self->is_lazy = NULL;\n00212\t\n00213\t      self->var_owner = NULL;\n00214\t      self->var_has_owner = NULL;\n00215\t\n00216\t      self->node_n_inputs = NULL;\n00217\t      self->node_n_outputs = NULL;\n00218\t      self->node_inputs = NULL;\n00219\t      self->node_outputs = NULL;\n00220\t      self->node_inputs_outputs_base = NULL;\n00221\t      self->node_prereqs = NULL;\n00222\t      self->node_n_prereqs = NULL;\n00223\t\n00224\t      self->update_storage = NULL;\n00225\t      self->n_updates = 0;\n00226\t\n00227\t      self->thunk_cptr_data = NULL;\n00228\t      self->thunk_cptr_fn = NULL;\n00229\t      self->call_times = NULL;\n00230\t      self->call_counts = NULL;\n00231\t      self->do_timing = 0;\n00232\t\n00233\t      self->need_update_inputs = 0;\n00234\t      self->position_of_error = -1;\n00235\t    }\n00236\t    return (PyObject *)self;\n00237\t}\n00238\t\n00239\tstatic int\n00240\tCLazyLinker_init(CLazyLinker *self, PyObject *args, PyObject *kwds)\n00241\t{\n00242\t    static char *kwlist[] = {\n00243\t      (char*)\"nodes\",\n00244\t      (char*)\"thunks\",\n00245\t      (char*)\"pre_call_clear\",\n00246\t      (char*)\"allow_gc\",\n00247\t      (char*)\"call_counts\",\n00248\t      (char*)\"call_times\",\n00249\t      (char*)\"compute_map_list\",\n00250\t      (char*)\"storage_map_list\",\n00251\t      (char*)\"base_input_output_list\",\n00252\t      (char*)\"node_n_inputs\",\n00253\t      (char*)\"node_n_outputs\",\n00254\t      (char*)\"node_input_offset\",\n00255\t      (char*)\"node_output_offset\",\n00256\t      (char*)\"var_owner\",\n00257\t      (char*)\"is_lazy_list\",\n00258\t      (char*)\"output_vars\",\n00259\t      (char*)\"node_prereqs\",\n00260\t      (char*)\"node_output_size\",\n00261\t      (char*)\"update_storage\",\n00262\t      (char*)\"dependencies\",\n00263\t      NULL};\n00264\t\n00265\t    PyObject *compute_map_list=NULL,\n00266\t             *storage_map_list=NULL,\n00267\t             *base_input_output_list=NULL,\n00268\t             *node_n_inputs=NULL,\n00269\t             *node_n_outputs=NULL,\n00270\t             *node_input_offset=NULL,\n00271\t             *node_output_offset=NULL,\n00272\t             *var_owner=NULL,\n00273\t             *is_lazy=NULL,\n00274\t             *output_vars=NULL,\n00275\t             *node_prereqs=NULL,\n00276\t             *node_output_size=NULL,\n00277\t             *update_storage=NULL,\n00278\t             *dependencies=NULL;\n00279\t\n00280\t    assert(!self->nodes);\n00281\t    if (! PyArg_ParseTupleAndKeywords(args, kwds, \"OOOiOOOOOOOOOOOOOOOO\", kwlist,\n00282\t                                      &self->nodes,\n00283\t                                      &self->thunks,\n00284\t                                      &self->pre_call_clear,\n00285\t                                      &self->allow_gc,\n00286\t                                      &self->call_counts,\n00287\t                                      &self->call_times,\n00288\t                                      &compute_map_list,\n00289\t                                      &storage_map_list,\n00290\t                                      &base_input_output_list,\n00291\t                                      &node_n_inputs,\n00292\t                                      &node_n_outputs,\n00293\t                                      &node_input_offset,\n00294\t                                      &node_output_offset,\n00295\t                                      &var_owner,\n00296\t                                      &is_lazy,\n00297\t                                      &output_vars,\n00298\t                                      &node_prereqs,\n00299\t                                      &node_output_size,\n00300\t                                      &update_storage,\n00301\t                                      &dependencies\n00302\t                                      ))\n00303\t        return -1;\n00304\t    Py_INCREF(self->nodes);\n00305\t    Py_INCREF(self->thunks);\n00306\t    Py_INCREF(self->pre_call_clear);\n00307\t    Py_INCREF(self->call_counts);\n00308\t    Py_INCREF(self->call_times);\n00309\t\n00310\t    Py_ssize_t n_applies = PyList_Size(self->nodes);\n00311\t\n00312\t    self->n_applies = n_applies;\n00313\t    self->n_vars = PyList_Size(var_owner);\n00314\t\n00315\t    if (PyList_Size(self->thunks) != n_applies) return -1;\n00316\t    if (PyList_Size(self->call_counts) != n_applies) return -1;\n00317\t    if (PyList_Size(self->call_times) != n_applies) return -1;\n00318\t\n00319\t    // allocated and initialize thunk_cptr_data and thunk_cptr_fn\n00320\t    if (n_applies)\n00321\t      {\n00322\t        self->thunk_cptr_data = (void**)calloc(n_applies, sizeof(void*));\n00323\t        self->thunk_cptr_fn = (void**)calloc(n_applies, sizeof(void*));\n00324\t        self->is_lazy = (int*)calloc(n_applies, sizeof(int));\n00325\t        self->node_prereqs = (Py_ssize_t**)calloc(n_applies, sizeof(Py_ssize_t*));\n00326\t        self->node_n_prereqs = (Py_ssize_t*)calloc(n_applies, sizeof(Py_ssize_t));\n00327\t        assert(self->node_prereqs);\n00328\t        assert(self->node_n_prereqs);\n00329\t        assert(self->is_lazy);\n00330\t        assert(self->thunk_cptr_fn);\n00331\t        assert(self->thunk_cptr_data);\n00332\t\n00333\t        for (int i = 0; i < n_applies; ++i)\n00334\t          {\n00335\t            PyObject * thunk = PyList_GetItem(self->thunks, i);\n00336\t            //thunk is borrowed\n00337\t            if (PyObject_HasAttrString(thunk, \"cthunk\"))\n00338\t              {\n00339\t                PyObject * cthunk = PyObject_GetAttrString(thunk, \"cthunk\");\n00340\t                //new reference\n00341\t                assert (cthunk && PyCObject_Check(cthunk));\n00342\t                self->thunk_cptr_fn[i] = PyCObject_AsVoidPtr(cthunk);\n00343\t                self->thunk_cptr_data[i] = PyCObject_GetDesc(cthunk);\n00344\t                Py_DECREF(cthunk);\n00345\t                // cthunk is kept alive by membership in self->thunks\n00346\t              }\n00347\t\n00348\t            PyObject * el_i = PyList_GetItem(is_lazy, i);\n00349\t            self->is_lazy[i] = PyNumber_AsSsize_t(el_i, NULL);\n00350\t\n00351\t            /* now get the prereqs */\n00352\t            el_i = PyList_GetItem(node_prereqs, i);\n00353\t            assert (PyList_Check(el_i));\n00354\t            self->node_n_prereqs[i] = PyList_Size(el_i);\n00355\t            if (self->node_n_prereqs[i])\n00356\t              {\n00357\t                self->node_prereqs[i] = (Py_ssize_t*)malloc(\n00358\t                              PyList_Size(el_i)*sizeof(Py_ssize_t));\n00359\t                for (int j = 0; j < PyList_Size(el_i); ++j)\n00360\t                  {\n00361\t                    PyObject * el_ij = PyList_GetItem(el_i, j);\n00362\t                    Py_ssize_t N = PyNumber_AsSsize_t(el_ij, PyExc_IndexError);\n00363\t                    if (PyErr_Occurred())\n00364\t                      return -1;\n00365\t                    // N < n. variables\n00366\t                    assert(N < PyList_Size(var_owner));\n00367\t                    self->node_prereqs[i][j] = N;\n00368\t                  }\n00369\t              }\n00370\t          }\n00371\t      }\n00372\t    if (PyList_Check(base_input_output_list))\n00373\t      {\n00374\t        Py_ssize_t n_inputs_outputs_base = PyList_Size(base_input_output_list);\n00375\t        self->node_inputs_outputs_base = (Py_ssize_t*)calloc(n_inputs_outputs_base,sizeof(Py_ssize_t));\n00376\t        assert(self->node_inputs_outputs_base);\n00377\t        for (int i = 0; i < n_inputs_outputs_base; ++i)\n00378\t          {\n00379\t            PyObject *el_i = PyList_GetItem(base_input_output_list, i);\n00380\t            Py_ssize_t idx = PyNumber_AsSsize_t(el_i, PyExc_IndexError);\n00381\t            if (PyErr_Occurred()) return -1;\n00382\t            self->node_inputs_outputs_base[i] = idx;\n00383\t          }\n00384\t        self->node_n_inputs = (Py_ssize_t*)calloc(n_applies,sizeof(Py_ssize_t));\n00385\t        assert(self->node_n_inputs);\n00386\t        self->node_n_outputs = (Py_ssize_t*)calloc(n_applies,sizeof(Py_ssize_t));\n00387\t        assert(self->node_n_outputs);\n00388\t        self->node_inputs = (Py_ssize_t**)calloc(n_applies,sizeof(Py_ssize_t*));\n00389\t        assert(self->node_inputs);\n00390\t        self->node_outputs = (Py_ssize_t**)calloc(n_applies,sizeof(Py_ssize_t*));\n00391\t        assert(self->node_outputs);\n00392\t        for (int i = 0; i < n_applies; ++i)\n00393\t          {\n00394\t            Py_ssize_t N;\n00395\t            N = PyNumber_AsSsize_t(PyList_GetItem(node_n_inputs, i),PyExc_IndexError);\n00396\t            if (PyErr_Occurred()) return -1;\n00397\t            assert (N <= n_inputs_outputs_base);\n00398\t            self->node_n_inputs[i] = N;\n00399\t            N = PyNumber_AsSsize_t(PyList_GetItem(node_n_outputs, i),PyExc_IndexError);\n00400\t            if (PyErr_Occurred()) return -1;\n00401\t            assert (N <= n_inputs_outputs_base);\n00402\t            self->node_n_outputs[i] = N;\n00403\t            N = PyNumber_AsSsize_t(PyList_GetItem(node_input_offset, i),PyExc_IndexError);\n00404\t            if (PyErr_Occurred()) return -1;\n00405\t            assert (N <= n_inputs_outputs_base);\n00406\t            self->node_inputs[i] = &self->node_inputs_outputs_base[N];\n00407\t            N = PyNumber_AsSsize_t(PyList_GetItem(node_output_offset, i),PyExc_IndexError);\n00408\t            if (PyErr_Occurred()) return -1;\n00409\t            assert (N <= n_inputs_outputs_base);\n00410\t            self->node_outputs[i] = &self->node_inputs_outputs_base[N];\n00411\t          }\n00412\t      }\n00413\t    else\n00414\t      {\n00415\t        PyErr_SetString(PyExc_TypeError, \"base_input_output_list must be list\");\n00416\t        return -1;\n00417\t      }\n00418\t\n00419\t    // allocation for var_owner\n00420\t    if (PyList_Check(var_owner))\n00421\t      {\n00422\t        self->var_owner = (Py_ssize_t*)calloc(self->n_vars,sizeof(Py_ssize_t));\n00423\t        self->var_has_owner = (int*)calloc(self->n_vars,sizeof(int));\n00424\t        self->var_computed = (int*)calloc(self->n_vars,sizeof(int));\n00425\t        self->var_computed_cells = (PyObject**)calloc(self->n_vars,sizeof(PyObject*));\n00426\t        self->var_value_cells = (PyObject**)calloc(self->n_vars,sizeof(PyObject*));\n00427\t        for (int i = 0; i < self->n_vars; ++i)\n00428\t          {\n00429\t            PyObject * el_i = PyList_GetItem(var_owner, i);\n00430\t            if (el_i == Py_None)\n00431\t              {\n00432\t                self->var_has_owner[i] = 0;\n00433\t              }\n00434\t            else\n00435\t              {\n00436\t                Py_ssize_t N = PyNumber_AsSsize_t(el_i, PyExc_IndexError);\n00437\t                if (PyErr_Occurred()) return -1;\n00438\t                assert (N <= n_applies);\n00439\t                self->var_owner[i] = N;\n00440\t                self->var_has_owner[i] = 1;\n00441\t              }\n00442\t            self->var_computed_cells[i] = PyList_GetItem(compute_map_list, i);\n00443\t            Py_INCREF(self->var_computed_cells[i]);\n00444\t            self->var_value_cells[i] = PyList_GetItem(storage_map_list, i);\n00445\t            Py_INCREF(self->var_value_cells[i]);\n00446\t          }\n00447\t      }\n00448\t    else\n00449\t      {\n00450\t        PyErr_SetString(PyExc_TypeError, \"var_owner must be list\");\n00451\t        return -1;\n00452\t      }\n00453\t\n00454\t    if (dependencies != Py_None)\n00455\t      {\n00456\t        self->dependencies = (Py_ssize_t**)calloc(self->n_vars, sizeof(Py_ssize_t *));\n00457\t        self->n_dependencies = (Py_ssize_t*)calloc(self->n_vars, sizeof(Py_ssize_t));\n00458\t        assert(self->dependencies);\n00459\t        assert(self->n_dependencies);\n00460\t\n00461\t        for (int i = 0; i < self->n_vars; ++i)\n00462\t          {\n00463\t            PyObject *tmp = PyList_GetItem(dependencies, i);\n00464\t            // refcounting - tmp is borrowed\n00465\t            if (unpack_list_of_ssize_t(tmp, &self->dependencies[i], &self->n_dependencies[i],\n00466\t                                       \"dependencies\"))\n00467\t              return -1;\n00468\t          }\n00469\t      }\n00470\t\n00471\t    if (unpack_list_of_ssize_t(output_vars, &self->output_vars, &self->n_output_vars,\n00472\t                               \"output_vars\"))\n00473\t      return -1;\n00474\t    for (int i = 0; i < self->n_output_vars; ++i)\n00475\t      {\n00476\t        assert(self->output_vars[i] < self->n_vars);\n00477\t      }\n00478\t    if (unpack_list_of_ssize_t(update_storage, &self->update_storage, &self->n_updates,\n00479\t                               \"updates_storage\"))\n00480\t      return -1;\n00481\t    return 0;\n00482\t}\n00483\tstatic void set_position_of_error(CLazyLinker * self, int owner_idx)\n00484\t{\n00485\t  if (self->position_of_error == -1)\n00486\t    {\n00487\t      self->position_of_error = owner_idx;\n00488\t    }\n00489\t}\n00490\tstatic PyObject * pycall(CLazyLinker * self, Py_ssize_t node_idx, int verbose)\n00491\t{\n00492\t  // call thunk to see which inputs it wants\n00493\t  PyObject * thunk = PyList_GetItem(self->thunks, node_idx);\n00494\t  // refcounting - thunk is borrowed\n00495\t  PyObject * rval = NULL;\n00496\t  if (self->do_timing)\n00497\t    {\n00498\t      double t0 = pytime(NULL);\n00499\t      if (verbose) fprintf(stderr, \"calling via Python (node %i)\\n\", (int)node_idx);\n00500\t      rval = PyObject_CallObject(thunk, NULL);\n00501\t      if (rval)\n00502\t        {\n00503\t          double t1 = pytime(NULL);\n00504\t          double ti = PyFloat_AsDouble(\n00505\t                         PyList_GetItem(self->call_times, node_idx));\n00506\t          PyList_SetItem(self->call_times, node_idx,\n00507\t                         PyFloat_FromDouble(t1 - t0 + ti));\n00508\t          PyObject * count = PyList_GetItem(self->call_counts, node_idx);\n00509\t          long icount = PyInt_AsLong(count);\n00510\t          PyList_SetItem(self->call_counts, node_idx,\n00511\t                         PyInt_FromLong(icount + 1));\n00512\t      }\n00513\t    }\n00514\t  else\n00515\t    {\n00516\t      if (verbose)\n00517\t        {\n00518\t          fprintf(stderr, \"calling via Python (node %i)\\n\", (int)node_idx);\n00519\t        }\n00520\t      rval = PyObject_CallObject(thunk, NULL);\n00521\t    }\n00522\t  return rval;\n00523\t}\n00524\tstatic int c_call(CLazyLinker * self, Py_ssize_t node_idx, int verbose)\n00525\t{\n00526\t  void * ptr_addr = self->thunk_cptr_fn[node_idx];\n00527\t  int (*fn)(void*) = (int (*)(void*))(ptr_addr);\n00528\t  if (verbose) fprintf(stderr, \"calling non-lazy shortcut (node %i)\\n\", (int)node_idx);\n00529\t  int err = 0;\n00530\t  if (self->do_timing)\n00531\t    {\n00532\t      double t0 = pytime(NULL);\n00533\t      err = fn(self->thunk_cptr_data[node_idx]);\n00534\t      double t1 = pytime(NULL);\n00535\t      double ti = PyFloat_AsDouble(PyList_GetItem(self->call_times, node_idx));\n00536\t      PyList_SetItem(self->call_times, node_idx, PyFloat_FromDouble(t1 - t0 + ti));\n00537\t      PyObject * count = PyList_GetItem(self->call_counts, node_idx);\n00538\t      long icount = PyInt_AsLong(count);\n00539\t      PyList_SetItem(self->call_counts, node_idx, PyInt_FromLong(icount+1));\n00540\t    }\n00541\t  else\n00542\t    {\n00543\t      err = fn(self->thunk_cptr_data[node_idx]);\n00544\t    }\n00545\t\n00546\t  if (err)\n00547\t    {\n00548\t      // cast the argument to a PyList (as described near line 226 of cc.py)\n00549\t      PyObject * __ERROR = ((PyObject**)self->thunk_cptr_data[node_idx])[0];\n00550\t      assert (PyList_Check(__ERROR));\n00551\t      assert (PyList_Size(__ERROR) == 3);\n00552\t      PyObject * err_type = PyList_GetItem(__ERROR, 0); //stolen ref\n00553\t      PyObject * err_msg = PyList_GetItem(__ERROR, 1); //stolen ref\n00554\t      PyObject * err_trace = PyList_GetItem(__ERROR, 2); //stolen ref\n00555\t      PyList_SET_ITEM(__ERROR, 0, Py_None); Py_INCREF(Py_None); //clobbers old ref\n00556\t      PyList_SET_ITEM(__ERROR, 1, Py_None); Py_INCREF(Py_None); //clobbers old ref\n00557\t      PyList_SET_ITEM(__ERROR, 2, Py_None); Py_INCREF(Py_None); //clobbers old ref\n00558\t\n00559\t      assert(!PyErr_Occurred()); // because CLinker hid the exception in __ERROR aka data\n00560\t      PyErr_Restore(err_type, err_msg, err_trace); //steals refs to args\n00561\t    }\n00562\t  if (err) set_position_of_error(self, node_idx);\n00563\t  return err;\n00564\t}\n00565\tstatic\n00566\tint lazy_rec_eval(CLazyLinker * self, Py_ssize_t var_idx, PyObject*one, PyObject*zero)\n00567\t{\n00568\t  PyObject *rval = NULL;\n00569\t  int verbose = 0;\n00570\t  int err = 0;\n00571\t\n00572\t  if (verbose) fprintf(stderr, \"lazy_rec computing %i\\n\", (int)var_idx);\n00573\t\n00574\t  if (self->var_computed[var_idx] || !self->var_has_owner[var_idx])\n00575\t    return 0;\n00576\t\n00577\t  Py_ssize_t owner_idx = self->var_owner[var_idx];\n00578\t\n00579\t  // STEP 1: compute the pre-requirements of the node\n00580\t  // Includes input nodes for non-lazy ops.\n00581\t  for (int i = 0; i < self->node_n_prereqs[owner_idx]; ++i)\n00582\t    {\n00583\t      Py_ssize_t prereq_idx = self->node_prereqs[owner_idx][i];\n00584\t      if (!self->var_computed[prereq_idx])\n00585\t        {\n00586\t          err = lazy_rec_eval(self, prereq_idx, one, zero);\n00587\t          if (err) return err;\n00588\t        }\n00589\t      assert (self->var_computed[prereq_idx]);\n00590\t    }\n00591\t\n00592\t  // STEP 2: compute the node itself\n00593\t  if (self->is_lazy[owner_idx])\n00594\t    {\n00595\t      // update the compute_map cells corresponding to the inputs of this thunk\n00596\t      for (int i = 0; i < self->node_n_inputs[owner_idx]; ++i)\n00597\t        {\n00598\t          int in_idx = self->node_inputs[owner_idx][i];\n00599\t          if (self->var_computed[in_idx])\n00600\t            {\n00601\t              Py_INCREF(one);\n00602\t              err = PyList_SetItem(self->var_computed_cells[in_idx], 0, one);\n00603\t            }\n00604\t          else\n00605\t            {\n00606\t              Py_INCREF(zero);\n00607\t              err = PyList_SetItem(self->var_computed_cells[in_idx], 0, zero);\n00608\t            }\n00609\t          if (err) goto fail;\n00610\t        }\n00611\t\n00612\t      rval = pycall(self, owner_idx, verbose);\n00613\t      // refcounting - rval is new ref\n00614\t      //TODO: to prevent infinite loops\n00615\t      // - consider check that a thunk does not ask for an input that is already computed\n00616\t      if (rval == NULL)\n00617\t        {\n00618\t          assert (PyErr_Occurred());\n00619\t          err = 1;\n00620\t          goto fail;\n00621\t        }\n00622\t\n00623\t      //update the computed-ness of any output cells\n00624\t      for (int i = 0; i < self->node_n_outputs[owner_idx]; ++i)\n00625\t        {\n00626\t          int out_idx = self->node_outputs[owner_idx][i];\n00627\t          PyObject * el_i = PyList_GetItem(self->var_computed_cells[out_idx], 0);\n00628\t          Py_ssize_t N = PyNumber_AsSsize_t(el_i, PyExc_IndexError);\n00629\t          if (PyErr_Occurred())\n00630\t            {\n00631\t              err = -1;\n00632\t              goto pyfail;\n00633\t            }\n00634\t          assert (N==0 || N==1);\n00635\t          self->var_computed[out_idx] = N;\n00636\t        }\n00637\t      if (!self->var_computed[var_idx])\n00638\t        {\n00639\t          /*\n00640\t           * If self is not computed after the call, this means that some\n00641\t           * inputs are needed.  Compute the ones on the returned list\n00642\t           * and try to compute the current node again (with recursive call).\n00643\t           * This allows a node to request more nodes more than once before\n00644\t           * finally yielding a result.\n00645\t           */\n00646\t          if (!PyList_Check(rval))\n00647\t            {\n00648\t              //TODO: More helpful error to help find *which node* made this\n00649\t              // bad thunk\n00650\t              PyErr_SetString(PyExc_TypeError,\n00651\t                              \"lazy thunk should return a list\");\n00652\t              err = 1;\n00653\t              goto pyfail;\n00654\t            }\n00655\t\n00656\t          if (!PyList_Size(rval))\n00657\t            {\n00658\t              PyErr_SetString(PyExc_ValueError,\n00659\t                              \"lazy thunk returned empty list without computing output\");\n00660\t              err = 1;\n00661\t              goto pyfail;\n00662\t            }\n00663\t\n00664\t          for (int i = 0; i < PyList_Size(rval); ++i)\n00665\t            {\n00666\t              PyObject * el_i = PyList_GetItem(rval, i);\n00667\t              Py_ssize_t N = PyNumber_AsSsize_t(el_i, PyExc_IndexError);\n00668\t              if (PyErr_Occurred())\n00669\t                {\n00670\t                  err = 1;\n00671\t                  goto pyfail;\n00672\t                }\n00673\t              assert (N <= self->node_n_inputs[owner_idx]);\n00674\t              Py_ssize_t input_idx = self->node_inputs[owner_idx][N];\n00675\t              err = lazy_rec_eval(self, input_idx, one, zero);\n00676\t              if (err) goto pyfail;\n00677\t            }\n00678\t\n00679\t          Py_DECREF(rval);\n00680\t          /*\n00681\t           * We intentionally skip all the end-of-function processing\n00682\t           * (mark outputs, GC) as it will be performed by the call\n00683\t           * that actually manages to compute the result.\n00684\t           */\n00685\t          return lazy_rec_eval(self, var_idx, one, zero);\n00686\t        }\n00687\t\n00688\t      Py_DECREF(rval);\n00689\t    }\n00690\t  else //owner is not a lazy op. Ensure all intputs are evaluated.\n00691\t    {\n00692\t      // loop over inputs to owner\n00693\t      // call lazy_rec_eval on each one that is not computed.\n00694\t      // if there's an error, pass it up the stack\n00695\t      for (int i = 0; i < self->node_n_inputs[owner_idx]; ++i)\n00696\t        {\n00697\t          Py_ssize_t input_idx = self->node_inputs[owner_idx][i];\n00698\t          if (!self->var_computed[input_idx])\n00699\t            {\n00700\t              err = lazy_rec_eval(self, input_idx, one, zero);\n00701\t              if (err) return err;\n00702\t            }\n00703\t          assert (self->var_computed[input_idx]);\n00704\t        }\n00705\t\n00706\t      // call the thunk for this owner.\n00707\t      if (self->thunk_cptr_fn[owner_idx])\n00708\t        {\n00709\t          err = c_call(self, owner_idx, verbose);\n00710\t          if (err) goto fail;\n00711\t        }\n00712\t      else\n00713\t        {\n00714\t          rval = pycall(self, owner_idx, verbose);\n00715\t          //rval is new ref\n00716\t          if (rval) //pycall returned normally (no exception)\n00717\t            {\n00718\t              if (rval == Py_None)\n00719\t                {\n00720\t                  Py_DECREF(rval); //ignore a return of None\n00721\t                }\n00722\t              else if (PyList_Check(rval))\n00723\t                {\n00724\t                  PyErr_SetString(PyExc_TypeError,\n00725\t                                  \"non-lazy thunk should return None, not list\");\n00726\t                  err = 1;\n00727\t                  goto pyfail;\n00728\t                }\n00729\t              else // don't know what it returned, but it wasn't right.\n00730\t                {\n00731\t                  PyErr_SetObject(PyExc_TypeError, rval);\n00732\t                  err = 1;\n00733\t                  // We don't release rval since we put it in the error above\n00734\t                  goto fail;\n00735\t                }\n00736\t            }\n00737\t          else // pycall returned NULL (internal error)\n00738\t            {\n00739\t              err = 1;\n00740\t              goto fail;\n00741\t            }\n00742\t        }\n00743\t    }\n00744\t\n00745\t  // loop over all outputs and mark them as computed\n00746\t  for (int i = 0; i < self->node_n_outputs[owner_idx]; ++i)\n00747\t    {\n00748\t      self->var_computed[self->node_outputs[owner_idx][i]] = 1;\n00749\t    }\n00750\t\n00751\t  // Free vars that are not needed anymore\n00752\t  if (self->allow_gc)\n00753\t    {\n00754\t      for (int i = 0; i < self->node_n_inputs[owner_idx]; ++i)\n00755\t        {\n00756\t          int cleanup = 1;\n00757\t          Py_ssize_t i_idx = self->node_inputs[owner_idx][i];\n00758\t          if (!self->var_has_owner[i_idx])\n00759\t            continue;\n00760\t\n00761\t          for (int j = 0; j < self->n_output_vars; ++j)\n00762\t            {\n00763\t              if (i_idx == self->output_vars[j])\n00764\t                {\n00765\t                  cleanup = 0;\n00766\t                  break;\n00767\t                }\n00768\t            }\n00769\t          if (!cleanup) continue;\n00770\t\n00771\t          for (int j = 0; j < self->n_dependencies[i_idx]; ++j)\n00772\t            {\n00773\t              if (!self->var_computed[self->dependencies[i_idx][j]])\n00774\t                {\n00775\t                  cleanup = 0;\n00776\t                  break;\n00777\t                }\n00778\t            }\n00779\t          if (!cleanup) continue;\n00780\t\n00781\t          Py_INCREF(Py_None);\n00782\t          err = PyList_SetItem(self->var_value_cells[i_idx], 0, Py_None);\n00783\t//See the Stack gc implementation for why we change it to 2 and not 0.\n00784\t          self->var_computed[i_idx] = 2;\n00785\t          if (err) goto fail;\n00786\t        }\n00787\t    }\n00788\t\n00789\t  return 0;\n00790\t pyfail:\n00791\t  Py_DECREF(rval);\n00792\t fail:\n00793\t  set_position_of_error(self, owner_idx);\n00794\t  return err;\n00795\t}\n00796\t\n00797\tstatic PyObject *\n00798\tCLazyLinker_call(PyObject *_self, PyObject *args, PyObject *kwds)\n00799\t{\n00800\t  CLazyLinker * self = (CLazyLinker*)_self;\n00801\t  static char *kwlist[] = {\n00802\t    (char*)\"time_thunks\",\n00803\t    (char *)\"n_calls\",\n00804\t    NULL};\n00805\t  int n_calls=1;\n00806\t  if (! PyArg_ParseTupleAndKeywords(args, kwds, \"|ii\", kwlist,\n00807\t                                    &self->do_timing,\n00808\t                                    &n_calls))\n00809\t    return NULL;\n00810\t  int err = 0;\n00811\t  self->position_of_error = -1;\n00812\t  // create constants used to fill the var_compute_cells\n00813\t  PyObject * one = PyInt_FromLong(1);\n00814\t  PyObject * zero = PyInt_FromLong(0);\n00815\t\n00816\t  // pre-allocate our return value\n00817\t  Py_INCREF(Py_None);\n00818\t  PyObject * rval = Py_None;\n00819\t  //clear storage of pre_call_clear elements\n00820\t  for (int call_i = 0; call_i < n_calls && (!err); ++call_i)\n00821\t    {\n00822\t      Py_ssize_t n_pre_call_clear = PyList_Size(self->pre_call_clear);\n00823\t      assert(PyList_Check(self->pre_call_clear));\n00824\t      for (int i = 0; i < n_pre_call_clear; ++i)\n00825\t        {\n00826\t          PyObject * el_i = PyList_GetItem(self->pre_call_clear, i);\n00827\t          Py_INCREF(Py_None);\n00828\t          PyList_SetItem(el_i, 0, Py_None);\n00829\t        }\n00830\t      //clear the computed flag out of all non-input vars\n00831\t      for (int i = 0; i < self->n_vars; ++i)\n00832\t        {\n00833\t          self->var_computed[i] = !self->var_has_owner[i];\n00834\t          if (self->var_computed[i])\n00835\t            {\n00836\t              Py_INCREF(one);\n00837\t              PyList_SetItem(self->var_computed_cells[i], 0, one);\n00838\t            }\n00839\t          else\n00840\t            {\n00841\t              Py_INCREF(zero);\n00842\t              PyList_SetItem(self->var_computed_cells[i], 0, zero);\n00843\t            }\n00844\t        }\n00845\t\n00846\t      for (int i = 0; i < self->n_output_vars && (!err); ++i)\n00847\t        {\n00848\t          err = lazy_rec_eval(self, self->output_vars[i], one, zero);\n00849\t        }\n00850\t\n00851\t      if (!err)\n00852\t        {\n00853\t          // save references to outputs prior to updating storage containers\n00854\t          assert (self->n_output_vars >= self->n_updates);\n00855\t          Py_DECREF(rval);\n00856\t          rval = PyList_New(self->n_output_vars);\n00857\t          for (int i = 0; i < (self->n_output_vars); ++i)\n00858\t            {\n00859\t              Py_ssize_t src = self->output_vars[i];\n00860\t              PyObject * item = PyList_GetItem(self->var_value_cells[src], 0);\n00861\t              if (self->var_computed[src] != 1)\n00862\t                {\n00863\t                  err = 1;\n00864\t                  PyErr_Format(PyExc_AssertionError,\n00865\t                               \"The compute map of output %d should contain \"\n00866\t                               \"1 at the end of execution, not %d.\",\n00867\t                               i, self->var_computed[src]);\n00868\t                  break;\n00869\t                }\n00870\t              Py_INCREF(item);\n00871\t              PyList_SetItem(rval, i, item);\n00872\t            }\n00873\t        }\n00874\t\n00875\t      if (!err)\n00876\t        {\n00877\t          // Update the inputs that have an update rule\n00878\t          for (int i = 0; i < self->n_updates; ++i)\n00879\t            {\n00880\t              PyObject* tmp = PyList_GetItem(rval, self->n_output_vars - self->n_updates + i);\n00881\t              Py_INCREF(tmp);\n00882\t              Py_ssize_t dst = self->update_storage[i];\n00883\t              PyList_SetItem(self->var_value_cells[dst], 0, tmp);\n00884\t            }\n00885\t        }\n00886\t    }\n00887\t\n00888\t  /*\n00889\t    Clear everything that is left and not an output.  This is needed\n00890\t    for lazy evaluation since the current GC algo is too conservative\n00891\t    with lazy graphs.\n00892\t  */\n00893\t  if (self->allow_gc && !err)\n00894\t    {\n00895\t      for (Py_ssize_t i = 0; i < self->n_vars; ++i)\n00896\t        {\n00897\t          int do_cleanup = 1;\n00898\t          if (!self->var_has_owner[i] || !self->var_computed[i])\n00899\t            continue;\n00900\t          for (int j = 0; j < self->n_output_vars; ++j)\n00901\t            {\n00902\t              if (i == self->output_vars[j])\n00903\t                {\n00904\t                  do_cleanup = 0;\n00905\t                  break;\n00906\t                }\n00907\t            }\n00908\t          if (!do_cleanup)\n00909\t            continue;\n00910\t          Py_INCREF(Py_None);\n00911\t          PyList_SetItem(self->var_value_cells[i], 0, Py_None);\n00912\t        }\n00913\t    }\n00914\t  Py_DECREF(one);\n00915\t  Py_DECREF(zero);\n00916\t  if (err)\n00917\t    {\n00918\t      Py_DECREF(rval);\n00919\t      return NULL;\n00920\t    }\n00921\t  return rval;\n00922\t}\n00923\t\n00924\t#if 0\n00925\tstatic PyMethodDef CLazyLinker_methods[] = {\n00926\t    {\n00927\t      //\"name\", (PyCFunction)CLazyLinker_accept, METH_VARARGS, \"Return the name, combining the first and last name\"\n00928\t    },\n00929\t    {NULL}  /* Sentinel */\n00930\t};\n00931\t#endif\n00932\t\n00933\t\n00934\tstatic PyObject *\n00935\tCLazyLinker_get_allow_gc(CLazyLinker *self, void *closure)\n00936\t{\n00937\t    return PyBool_FromLong(self->allow_gc);\n00938\t}\n00939\t\n00940\tstatic int\n00941\tCLazyLinker_set_allow_gc(CLazyLinker *self, PyObject *value, void *closure)\n00942\t{\n00943\t  if(!PyBool_Check(value))\n00944\t    return -1;\n00945\t\n00946\t  if (value == Py_True)\n00947\t    self->allow_gc = true;\n00948\t  else\n00949\t    self->allow_gc = false;\n00950\t  return 0;\n00951\t}\n00952\t\n00953\tstatic PyGetSetDef CLazyLinker_getset[] = {\n00954\t  {(char*)\"allow_gc\",\n00955\t   (getter)CLazyLinker_get_allow_gc,\n00956\t   (setter)CLazyLinker_set_allow_gc,\n00957\t   (char*)\"do this function support allow_gc\",\n00958\t   NULL},\n00959\t  {NULL, NULL, NULL, NULL}  /* Sentinel */\n00960\t};\n00961\tstatic PyMemberDef CLazyLinker_members[] = {\n00962\t    {(char*)\"nodes\", T_OBJECT_EX, offsetof(CLazyLinker, nodes), 0,\n00963\t     (char*)\"list of nodes\"},\n00964\t    {(char*)\"thunks\", T_OBJECT_EX, offsetof(CLazyLinker, thunks), 0,\n00965\t     (char*)\"list of thunks in program\"},\n00966\t    {(char*)\"call_counts\", T_OBJECT_EX, offsetof(CLazyLinker, call_counts), 0,\n00967\t     (char*)\"number of calls of each thunk\"},\n00968\t    {(char*)\"call_times\", T_OBJECT_EX, offsetof(CLazyLinker, call_times), 0,\n00969\t     (char*)\"total runtime in each thunk\"},\n00970\t    {(char*)\"position_of_error\", T_INT, offsetof(CLazyLinker, position_of_error), 0,\n00971\t     (char*)\"position of failed thunk\"},\n00972\t    {(char*)\"time_thunks\", T_INT, offsetof(CLazyLinker, do_timing), 0,\n00973\t     (char*)\"bool: nonzero means call will time thunks\"},\n00974\t    {(char*)\"need_update_inputs\", T_INT, offsetof(CLazyLinker, need_update_inputs), 0,\n00975\t     (char*)\"bool: nonzero means Function.__call__ must implement update mechanism\"},\n00976\t    {NULL}  /* Sentinel */\n00977\t};\n00978\t\n00979\tstatic PyTypeObject lazylinker_ext_CLazyLinkerType = {\n00980\t#if defined(NPY_PY3K)\n00981\t    PyVarObject_HEAD_INIT(NULL, 0)\n00982\t#else\n00983\t    PyObject_HEAD_INIT(NULL)\n00984\t    0,                         /*ob_size*/\n00985\t#endif\n00986\t    \"lazylinker_ext.CLazyLinker\",             /*tp_name*/\n00987\t    sizeof(CLazyLinker), /*tp_basicsize*/\n00988\t    0,                         /*tp_itemsize*/\n00989\t    CLazyLinker_dealloc,       /*tp_dealloc*/\n00990\t    0,                         /*tp_print*/\n00991\t    0,                         /*tp_getattr*/\n00992\t    0,                         /*tp_setattr*/\n00993\t    0,                         /*tp_compare*/\n00994\t    0,                         /*tp_repr*/\n00995\t    0,                         /*tp_as_number*/\n00996\t    0,                         /*tp_as_sequence*/\n00997\t    0,                         /*tp_as_mapping*/\n00998\t    0,                         /*tp_hash */\n00999\t    CLazyLinker_call,          /*tp_call*/\n01000\t    0,                         /*tp_str*/\n01001\t    0,                         /*tp_getattro*/\n01002\t    0,                         /*tp_setattro*/\n01003\t    0,                         /*tp_as_buffer*/\n01004\t    Py_TPFLAGS_DEFAULT|Py_TPFLAGS_BASETYPE,        /*tp_flags*/\n01005\t    \"CLazyLinker object\",      /* tp_doc */\n01006\t    0,                         /* tp_traverse */\n01007\t    0,                         /* tp_clear */\n01008\t    0,                         /* tp_richcompare */\n01009\t    0,                         /* tp_weaklistoffset */\n01010\t    0,                         /* tp_iter */\n01011\t    0,                         /* tp_iternext */\n01012\t    0,//CLazyLinker_methods,       /* tp_methods */\n01013\t    CLazyLinker_members,       /* tp_members */\n01014\t    CLazyLinker_getset,        /* tp_getset */\n01015\t    0,                         /* tp_base */\n01016\t    0,                         /* tp_dict */\n01017\t    0,                         /* tp_descr_get */\n01018\t    0,                         /* tp_descr_set */\n01019\t    0,                         /* tp_dictoffset */\n01020\t    (initproc)CLazyLinker_init,/* tp_init */\n01021\t    0,                         /* tp_alloc */\n01022\t    CLazyLinker_new,           /* tp_new */\n01023\t};\n01024\t\n01025\tstatic PyObject * get_version(PyObject *dummy, PyObject *args)\n01026\t{\n01027\t  PyObject *result = PyFloat_FromDouble(0.21);\n01028\t  return result;\n01029\t}\n01030\t\n01031\tstatic PyMethodDef lazylinker_ext_methods[] = {\n01032\t  {\"get_version\",  get_version, METH_VARARGS, \"Get extension version.\"},\n01033\t  {NULL, NULL, 0, NULL}        /* Sentinel */\n01034\t};\n01035\t\n01036\t#ifndef PyMODINIT_FUNC  /* declarations for DLL import/export */\n01037\t#define PyMODINIT_FUNC void\n01038\t#endif\n01039\t\n01040\t#if defined(NPY_PY3K)\n01041\tstatic struct PyModuleDef moduledef = {\n01042\t        PyModuleDef_HEAD_INIT,\n01043\t        \"lazylinker_ext\",\n01044\t        NULL,\n01045\t        -1,\n01046\t        lazylinker_ext_methods,\n01047\t        NULL,\n01048\t        NULL,\n01049\t        NULL,\n01050\t        NULL\n01051\t};\n01052\t#endif\n01053\t#if defined(NPY_PY3K)\n01054\t#define RETVAL m\n01055\tPyMODINIT_FUNC\n01056\tPyInit_lazylinker_ext(void) {\n01057\t#else\n01058\t#define RETVAL\n01059\tPyMODINIT_FUNC\n01060\tinitlazylinker_ext(void) \n01061\t{\n01062\t#endif\n01063\t    PyObject* m;\n01064\t\n01065\t    lazylinker_ext_CLazyLinkerType.tp_new = PyType_GenericNew;\n01066\t    if (PyType_Ready(&lazylinker_ext_CLazyLinkerType) < 0)\n01067\t        return RETVAL;\n01068\t#if defined(NPY_PY3K)\n01069\t    m = PyModule_Create(&moduledef);\n01070\t#else\n01071\t    m = Py_InitModule3(\"lazylinker_ext\", lazylinker_ext_methods,\n01072\t                       \"Example module that creates an extension type.\");\n01073\t#endif\n01074\t    Py_INCREF(&lazylinker_ext_CLazyLinkerType);\n01075\t    PyModule_AddObject(m, \"CLazyLinker\", (PyObject *)&lazylinker_ext_CLazyLinkerType);\n01076\t\n01077\t    return RETVAL;\n01078\t}\n01079\t\n01080\t\nProblem occurred during compilation with the command line below:\n/usr/bin/clang++ -dynamiclib -g -march=skylake -target-feature -sse4a -target-feature -avx512bw -target-feature +cx16 -target-feature -tbm -target-feature +xsave -target-feature -fma4 -target-feature -avx512vl -target-feature +prfchw -target-feature +bmi2 -target-feature +adx -target-feature +xsavec -target-feature +fsgsbase -target-feature +avx -target-feature -avx512cd -target-feature -avx512pf -target-feature +rtm -target-feature +popcnt -target-feature +fma -target-feature +bmi -target-feature +aes -target-feature +rdrnd -target-feature +xsaves -target-feature +sse4.1 -target-feature +sse4.2 -target-feature +avx2 -target-feature -avx512er -target-feature +sse -target-feature +lzcnt -target-feature +pclmul -target-feature -avx512f -target-feature +f16c -target-feature +ssse3 -target-feature +mmx -target-feature +cmov -target-feature -xop -target-feature +rdseed -target-feature +movbe -target-feature +hle -target-feature +xsaveopt -target-feature -sha -target-feature +sse2 -target-feature +sse3 -target-feature -avx512dq -D NPY_NO_DEPRECATED_API=NPY_1_7_API_VERSION -m64 -fPIC -undefined dynamic_lookup -I/Users/jimstearns/anaconda/lib/python3.5/site-packages/numpy/core/include -I/Users/jimstearns/anaconda/include/python3.5m -o /Users/jimstearns/.theano/compiledir_Darwin-15.4.0-x86_64-i386-64bit-i386-3.5.1-64/lazylinker_ext/lazylinker_ext.so /Users/jimstearns/.theano/compiledir_Darwin-15.4.0-x86_64-i386-64bit-i386-3.5.1-64/lazylinker_ext/mod.cpp -L/Users/jimstearns/anaconda/lib\n"
     ]
    },
    {
     "ename": "Exception",
     "evalue": "Compilation failed (return status=1): clang: error: unknown argument: '-target-feature'. clang: error: unknown argument: '-sse4a'. clang: error: unknown argument: '-target-feature'. clang: error: unknown argument: '-target-feature'. clang: error: unknown argument: '-target-feature'. clang: error: unknown argument: '-tbm'. clang: error: unknown argument: '-target-feature'. clang: error: unknown argument: '-target-feature'. clang: error: unknown argument: '-fma4'. clang: error: unknown argument: '-target-feature'. clang: error: unknown argument: '-target-feature'. clang: error: unknown argument: '-target-feature'. clang: error: unknown argument: '-target-feature'. clang: error: unknown argument: '-target-feature'. clang: error: unknown argument: '-target-feature'. clang: error: unknown argument: '-target-feature'. clang: error: unknown argument: '-target-feature'. clang: error: unknown argument: '-target-feature'. clang: error: unknown argument: '-target-feature'. clang: error: unknown argument: '-target-feature'. clang: error: unknown argument: '-target-feature'. clang: error: unknown argument: '-target-feature'. clang: error: unknown argument: '-target-feature'. clang: error: unknown argument: '-target-feature'. clang: error: unknown argument: '-target-feature'. clang: error: unknown argument: '-target-feature'. clang: error: unknown argument: '-target-feature'. clang: error: unknown argument: '-target-feature'. clang: error: unknown argument: '-target-feature'. clang: error: unknown argument: '-target-feature'. clang: error: unknown argument: '-target-feature'. clang: error: unknown argument: '-target-feature'. clang: error: unknown argument: '-target-feature'. clang: error: unknown argument: '-target-feature'. clang: error: unknown argument: '-target-feature'. clang: error: unknown argument: '-target-feature'. clang: error: unknown argument: '-target-feature'. clang: error: unknown argument: '-target-feature'. clang: error: unknown argument: '-target-feature'. clang: error: unknown argument: '-target-feature'. clang: error: unknown argument: '-target-feature'. clang: error: unknown argument: '-target-feature'. clang: error: unknown argument: '-target-feature'. clang: error: unknown argument: '-sha'. clang: error: unknown argument: '-target-feature'. clang: error: unknown argument: '-target-feature'. clang: error: unknown argument: '-target-feature'. clang: error: no such file or directory: '+cx16'. clang: error: no such file or directory: '+xsave'. clang: error: no such file or directory: '+prfchw'. clang: error: no such file or directory: '+bmi2'. clang: error: no such file or directory: '+adx'. clang: error: no such file or directory: '+xsavec'. clang: error: no such file or directory: '+fsgsbase'. clang: error: no such file or directory: '+avx'. clang: error: no such file or directory: '+rtm'. clang: error: no such file or directory: '+popcnt'. clang: error: no such file or directory: '+fma'. clang: error: no such file or directory: '+bmi'. clang: error: no such file or directory: '+aes'. clang: error: no such file or directory: '+rdrnd'. clang: error: no such file or directory: '+xsaves'. clang: error: no such file or directory: '+sse4.1'. clang: error: no such file or directory: '+sse4.2'. clang: error: no such file or directory: '+avx2'. clang: error: no such file or directory: '+sse'. clang: error: no such file or directory: '+lzcnt'. clang: error: no such file or directory: '+pclmul'. clang: error: no such file or directory: '+f16c'. clang: error: no such file or directory: '+ssse3'. clang: error: no such file or directory: '+mmx'. clang: error: no such file or directory: '+cmov'. clang: error: language not recognized: 'op'. clang: error: no such file or directory: '+rdseed'. clang: error: no such file or directory: '+movbe'. clang: error: no such file or directory: '+hle'. clang: error: no such file or directory: '+xsaveopt'. clang: error: no such file or directory: '+sse2'. clang: error: no such file or directory: '+sse3'. ",
     "traceback": [
      "\u001b[0;31m---------------------------------------------------------------------------\u001b[0m",
      "\u001b[0;31mImportError\u001b[0m                               Traceback (most recent call last)",
      "\u001b[0;32m/Users/jimstearns/anaconda/lib/python3.5/site-packages/theano/gof/lazylinker_c.py\u001b[0m in \u001b[0;36m<module>\u001b[0;34m()\u001b[0m\n\u001b[1;32m     64\u001b[0m         \u001b[0;32mif\u001b[0m \u001b[0mversion\u001b[0m \u001b[0;34m!=\u001b[0m \u001b[0mgetattr\u001b[0m\u001b[0;34m(\u001b[0m\u001b[0mlazylinker_ext\u001b[0m\u001b[0;34m,\u001b[0m \u001b[0;34m'_version'\u001b[0m\u001b[0;34m,\u001b[0m \u001b[0;32mNone\u001b[0m\u001b[0;34m)\u001b[0m\u001b[0;34m:\u001b[0m\u001b[0;34m\u001b[0m\u001b[0m\n\u001b[0;32m---> 65\u001b[0;31m             \u001b[0;32mraise\u001b[0m \u001b[0mImportError\u001b[0m\u001b[0;34m(\u001b[0m\u001b[0;34m)\u001b[0m\u001b[0;34m\u001b[0m\u001b[0m\n\u001b[0m\u001b[1;32m     66\u001b[0m \u001b[0;32mexcept\u001b[0m \u001b[0mImportError\u001b[0m\u001b[0;34m:\u001b[0m\u001b[0;34m\u001b[0m\u001b[0m\n",
      "\u001b[0;31mImportError\u001b[0m: ",
      "\nDuring handling of the above exception, another exception occurred:\n",
      "\u001b[0;31mImportError\u001b[0m                               Traceback (most recent call last)",
      "\u001b[0;32m/Users/jimstearns/anaconda/lib/python3.5/site-packages/theano/gof/lazylinker_c.py\u001b[0m in \u001b[0;36m<module>\u001b[0;34m()\u001b[0m\n\u001b[1;32m     81\u001b[0m             \u001b[0;32mif\u001b[0m \u001b[0mversion\u001b[0m \u001b[0;34m!=\u001b[0m \u001b[0mgetattr\u001b[0m\u001b[0;34m(\u001b[0m\u001b[0mlazylinker_ext\u001b[0m\u001b[0;34m,\u001b[0m \u001b[0;34m'_version'\u001b[0m\u001b[0;34m,\u001b[0m \u001b[0;32mNone\u001b[0m\u001b[0;34m)\u001b[0m\u001b[0;34m:\u001b[0m\u001b[0;34m\u001b[0m\u001b[0m\n\u001b[0;32m---> 82\u001b[0;31m                 \u001b[0;32mraise\u001b[0m \u001b[0mImportError\u001b[0m\u001b[0;34m(\u001b[0m\u001b[0;34m)\u001b[0m\u001b[0;34m\u001b[0m\u001b[0m\n\u001b[0m\u001b[1;32m     83\u001b[0m         \u001b[0;32mexcept\u001b[0m \u001b[0mImportError\u001b[0m\u001b[0;34m:\u001b[0m\u001b[0;34m\u001b[0m\u001b[0m\n",
      "\u001b[0;31mImportError\u001b[0m: ",
      "\nDuring handling of the above exception, another exception occurred:\n",
      "\u001b[0;31mException\u001b[0m                                 Traceback (most recent call last)",
      "\u001b[0;32m<ipython-input-3-af782edb7bb1>\u001b[0m in \u001b[0;36m<module>\u001b[0;34m()\u001b[0m\n\u001b[0;32m----> 1\u001b[0;31m \u001b[0;32mimport\u001b[0m \u001b[0mtheano\u001b[0m\u001b[0;34m\u001b[0m\u001b[0m\n\u001b[0m\u001b[1;32m      2\u001b[0m \u001b[0;31m#from theano import tensor as T\u001b[0m\u001b[0;34m\u001b[0m\u001b[0;34m\u001b[0m\u001b[0m\n",
      "\u001b[0;32m/Users/jimstearns/anaconda/lib/python3.5/site-packages/theano/__init__.py\u001b[0m in \u001b[0;36m<module>\u001b[0;34m()\u001b[0m\n\u001b[1;32m     53\u001b[0m     \u001b[0mobject2\u001b[0m\u001b[0;34m,\u001b[0m \u001b[0mutils\u001b[0m\u001b[0;34m\u001b[0m\u001b[0m\n\u001b[1;32m     54\u001b[0m \u001b[0;34m\u001b[0m\u001b[0m\n\u001b[0;32m---> 55\u001b[0;31m \u001b[0;32mfrom\u001b[0m \u001b[0mtheano\u001b[0m\u001b[0;34m.\u001b[0m\u001b[0mcompile\u001b[0m \u001b[0;32mimport\u001b[0m\u001b[0;31m \u001b[0m\u001b[0;31m\\\u001b[0m\u001b[0;34m\u001b[0m\u001b[0m\n\u001b[0m\u001b[1;32m     56\u001b[0m     \u001b[0mSymbolicInput\u001b[0m\u001b[0;34m,\u001b[0m \u001b[0mIn\u001b[0m\u001b[0;34m,\u001b[0m\u001b[0;31m \u001b[0m\u001b[0;31m\\\u001b[0m\u001b[0;34m\u001b[0m\u001b[0m\n\u001b[1;32m     57\u001b[0m     \u001b[0mSymbolicOutput\u001b[0m\u001b[0;34m,\u001b[0m \u001b[0mOut\u001b[0m\u001b[0;34m,\u001b[0m\u001b[0;31m \u001b[0m\u001b[0;31m\\\u001b[0m\u001b[0;34m\u001b[0m\u001b[0m\n",
      "\u001b[0;32m/Users/jimstearns/anaconda/lib/python3.5/site-packages/theano/compile/__init__.py\u001b[0m in \u001b[0;36m<module>\u001b[0;34m()\u001b[0m\n\u001b[1;32m      7\u001b[0m         SpecifyShape, specify_shape, register_specify_shape_c_code)\n\u001b[1;32m      8\u001b[0m \u001b[0;34m\u001b[0m\u001b[0m\n\u001b[0;32m----> 9\u001b[0;31m \u001b[0;32mfrom\u001b[0m \u001b[0mtheano\u001b[0m\u001b[0;34m.\u001b[0m\u001b[0mcompile\u001b[0m\u001b[0;34m.\u001b[0m\u001b[0mfunction_module\u001b[0m \u001b[0;32mimport\u001b[0m \u001b[0;34m*\u001b[0m\u001b[0;34m\u001b[0m\u001b[0m\n\u001b[0m\u001b[1;32m     10\u001b[0m \u001b[0;34m\u001b[0m\u001b[0m\n\u001b[1;32m     11\u001b[0m \u001b[0;32mfrom\u001b[0m \u001b[0mtheano\u001b[0m\u001b[0;34m.\u001b[0m\u001b[0mcompile\u001b[0m\u001b[0;34m.\u001b[0m\u001b[0mmode\u001b[0m \u001b[0;32mimport\u001b[0m \u001b[0;34m*\u001b[0m\u001b[0;34m\u001b[0m\u001b[0m\n",
      "\u001b[0;32m/Users/jimstearns/anaconda/lib/python3.5/site-packages/theano/compile/function_module.py\u001b[0m in \u001b[0;36m<module>\u001b[0;34m()\u001b[0m\n\u001b[1;32m     16\u001b[0m \u001b[0;32mfrom\u001b[0m \u001b[0mtheano\u001b[0m \u001b[0;32mimport\u001b[0m \u001b[0mgof\u001b[0m\u001b[0;34m\u001b[0m\u001b[0m\n\u001b[1;32m     17\u001b[0m \u001b[0;32mfrom\u001b[0m \u001b[0mtheano\u001b[0m\u001b[0;34m.\u001b[0m\u001b[0mcompat\u001b[0m\u001b[0;34m.\u001b[0m\u001b[0mpython2x\u001b[0m \u001b[0;32mimport\u001b[0m \u001b[0mpartial\u001b[0m\u001b[0;34m\u001b[0m\u001b[0m\n\u001b[0;32m---> 18\u001b[0;31m \u001b[0;32mimport\u001b[0m \u001b[0mtheano\u001b[0m\u001b[0;34m.\u001b[0m\u001b[0mcompile\u001b[0m\u001b[0;34m.\u001b[0m\u001b[0mmode\u001b[0m\u001b[0;34m\u001b[0m\u001b[0m\n\u001b[0m\u001b[1;32m     19\u001b[0m from theano.compile.io import (\n\u001b[1;32m     20\u001b[0m     In, SymbolicInput, SymbolicInputKit, SymbolicOutput)\n",
      "\u001b[0;32m/Users/jimstearns/anaconda/lib/python3.5/site-packages/theano/compile/mode.py\u001b[0m in \u001b[0;36m<module>\u001b[0;34m()\u001b[0m\n\u001b[1;32m      9\u001b[0m \u001b[0;32mimport\u001b[0m  \u001b[0mtheano\u001b[0m\u001b[0;34m\u001b[0m\u001b[0m\n\u001b[1;32m     10\u001b[0m \u001b[0;32mfrom\u001b[0m \u001b[0mtheano\u001b[0m \u001b[0;32mimport\u001b[0m \u001b[0mgof\u001b[0m\u001b[0;34m\u001b[0m\u001b[0m\n\u001b[0;32m---> 11\u001b[0;31m \u001b[0;32mimport\u001b[0m \u001b[0mtheano\u001b[0m\u001b[0;34m.\u001b[0m\u001b[0mgof\u001b[0m\u001b[0;34m.\u001b[0m\u001b[0mvm\u001b[0m\u001b[0;34m\u001b[0m\u001b[0m\n\u001b[0m\u001b[1;32m     12\u001b[0m \u001b[0;32mfrom\u001b[0m \u001b[0mtheano\u001b[0m\u001b[0;34m.\u001b[0m\u001b[0mconfigparser\u001b[0m \u001b[0;32mimport\u001b[0m \u001b[0mconfig\u001b[0m\u001b[0;34m,\u001b[0m \u001b[0mAddConfigVar\u001b[0m\u001b[0;34m,\u001b[0m \u001b[0mStrParam\u001b[0m\u001b[0;34m\u001b[0m\u001b[0m\n\u001b[1;32m     13\u001b[0m \u001b[0;32mfrom\u001b[0m \u001b[0mtheano\u001b[0m\u001b[0;34m.\u001b[0m\u001b[0mcompile\u001b[0m\u001b[0;34m.\u001b[0m\u001b[0mops\u001b[0m \u001b[0;32mimport\u001b[0m \u001b[0mregister_view_op_c_code\u001b[0m\u001b[0;34m,\u001b[0m \u001b[0m_output_guard\u001b[0m\u001b[0;34m\u001b[0m\u001b[0m\n",
      "\u001b[0;32m/Users/jimstearns/anaconda/lib/python3.5/site-packages/theano/gof/vm.py\u001b[0m in \u001b[0;36m<module>\u001b[0;34m()\u001b[0m\n\u001b[1;32m    566\u001b[0m \u001b[0;34m\u001b[0m\u001b[0m\n\u001b[1;32m    567\u001b[0m \u001b[0;32mtry\u001b[0m\u001b[0;34m:\u001b[0m\u001b[0;34m\u001b[0m\u001b[0m\n\u001b[0;32m--> 568\u001b[0;31m     \u001b[0;32mfrom\u001b[0m \u001b[0;34m.\u001b[0m \u001b[0;32mimport\u001b[0m \u001b[0mlazylinker_c\u001b[0m\u001b[0;34m\u001b[0m\u001b[0m\n\u001b[0m\u001b[1;32m    569\u001b[0m \u001b[0;34m\u001b[0m\u001b[0m\n\u001b[1;32m    570\u001b[0m     \u001b[0;32mclass\u001b[0m \u001b[0mCVM\u001b[0m\u001b[0;34m(\u001b[0m\u001b[0mlazylinker_c\u001b[0m\u001b[0;34m.\u001b[0m\u001b[0mCLazyLinker\u001b[0m\u001b[0;34m,\u001b[0m \u001b[0mVM\u001b[0m\u001b[0;34m)\u001b[0m\u001b[0;34m:\u001b[0m\u001b[0;34m\u001b[0m\u001b[0m\n",
      "\u001b[0;32m/Users/jimstearns/anaconda/lib/python3.5/site-packages/theano/gof/lazylinker_c.py\u001b[0m in \u001b[0;36m<module>\u001b[0;34m()\u001b[0m\n\u001b[1;32m    115\u001b[0m             \u001b[0margs\u001b[0m \u001b[0;34m=\u001b[0m \u001b[0mcmodule\u001b[0m\u001b[0;34m.\u001b[0m\u001b[0mGCC_compiler\u001b[0m\u001b[0;34m.\u001b[0m\u001b[0mcompile_args\u001b[0m\u001b[0;34m(\u001b[0m\u001b[0;34m)\u001b[0m\u001b[0;34m\u001b[0m\u001b[0m\n\u001b[1;32m    116\u001b[0m             cmodule.GCC_compiler.compile_str(dirname, code, location=loc,\n\u001b[0;32m--> 117\u001b[0;31m                                              preargs=args)\n\u001b[0m\u001b[1;32m    118\u001b[0m             \u001b[0;31m# Save version into the __init__.py file.\u001b[0m\u001b[0;34m\u001b[0m\u001b[0;34m\u001b[0m\u001b[0m\n\u001b[1;32m    119\u001b[0m             \u001b[0minit_py\u001b[0m \u001b[0;34m=\u001b[0m \u001b[0mos\u001b[0m\u001b[0;34m.\u001b[0m\u001b[0mpath\u001b[0m\u001b[0;34m.\u001b[0m\u001b[0mjoin\u001b[0m\u001b[0;34m(\u001b[0m\u001b[0mloc\u001b[0m\u001b[0;34m,\u001b[0m \u001b[0;34m'__init__.py'\u001b[0m\u001b[0;34m)\u001b[0m\u001b[0;34m\u001b[0m\u001b[0m\n",
      "\u001b[0;32m/Users/jimstearns/anaconda/lib/python3.5/site-packages/theano/gof/cmodule.py\u001b[0m in \u001b[0;36mcompile_str\u001b[0;34m(module_name, src_code, location, include_dirs, lib_dirs, libs, preargs, py_module)\u001b[0m\n\u001b[1;32m   2008\u001b[0m             \u001b[0;31m# difficult to read.\u001b[0m\u001b[0;34m\u001b[0m\u001b[0;34m\u001b[0m\u001b[0m\n\u001b[1;32m   2009\u001b[0m             raise Exception('Compilation failed (return status=%s): %s' %\n\u001b[0;32m-> 2010\u001b[0;31m                             (status, compile_stderr.replace('\\n', '. ')))\n\u001b[0m\u001b[1;32m   2011\u001b[0m         \u001b[0;32melif\u001b[0m \u001b[0mconfig\u001b[0m\u001b[0;34m.\u001b[0m\u001b[0mcmodule\u001b[0m\u001b[0;34m.\u001b[0m\u001b[0mcompilation_warning\u001b[0m \u001b[0;32mand\u001b[0m \u001b[0mcompile_stderr\u001b[0m\u001b[0;34m:\u001b[0m\u001b[0;34m\u001b[0m\u001b[0m\n\u001b[1;32m   2012\u001b[0m             \u001b[0;31m# Print errors just below the command line.\u001b[0m\u001b[0;34m\u001b[0m\u001b[0;34m\u001b[0m\u001b[0m\n",
      "\u001b[0;31mException\u001b[0m: Compilation failed (return status=1): clang: error: unknown argument: '-target-feature'. clang: error: unknown argument: '-sse4a'. clang: error: unknown argument: '-target-feature'. clang: error: unknown argument: '-target-feature'. clang: error: unknown argument: '-target-feature'. clang: error: unknown argument: '-tbm'. clang: error: unknown argument: '-target-feature'. clang: error: unknown argument: '-target-feature'. clang: error: unknown argument: '-fma4'. clang: error: unknown argument: '-target-feature'. clang: error: unknown argument: '-target-feature'. clang: error: unknown argument: '-target-feature'. clang: error: unknown argument: '-target-feature'. clang: error: unknown argument: '-target-feature'. clang: error: unknown argument: '-target-feature'. clang: error: unknown argument: '-target-feature'. clang: error: unknown argument: '-target-feature'. clang: error: unknown argument: '-target-feature'. clang: error: unknown argument: '-target-feature'. clang: error: unknown argument: '-target-feature'. clang: error: unknown argument: '-target-feature'. clang: error: unknown argument: '-target-feature'. clang: error: unknown argument: '-target-feature'. clang: error: unknown argument: '-target-feature'. clang: error: unknown argument: '-target-feature'. clang: error: unknown argument: '-target-feature'. clang: error: unknown argument: '-target-feature'. clang: error: unknown argument: '-target-feature'. clang: error: unknown argument: '-target-feature'. clang: error: unknown argument: '-target-feature'. clang: error: unknown argument: '-target-feature'. clang: error: unknown argument: '-target-feature'. clang: error: unknown argument: '-target-feature'. clang: error: unknown argument: '-target-feature'. clang: error: unknown argument: '-target-feature'. clang: error: unknown argument: '-target-feature'. clang: error: unknown argument: '-target-feature'. clang: error: unknown argument: '-target-feature'. clang: error: unknown argument: '-target-feature'. clang: error: unknown argument: '-target-feature'. clang: error: unknown argument: '-target-feature'. clang: error: unknown argument: '-target-feature'. clang: error: unknown argument: '-target-feature'. clang: error: unknown argument: '-sha'. clang: error: unknown argument: '-target-feature'. clang: error: unknown argument: '-target-feature'. clang: error: unknown argument: '-target-feature'. clang: error: no such file or directory: '+cx16'. clang: error: no such file or directory: '+xsave'. clang: error: no such file or directory: '+prfchw'. clang: error: no such file or directory: '+bmi2'. clang: error: no such file or directory: '+adx'. clang: error: no such file or directory: '+xsavec'. clang: error: no such file or directory: '+fsgsbase'. clang: error: no such file or directory: '+avx'. clang: error: no such file or directory: '+rtm'. clang: error: no such file or directory: '+popcnt'. clang: error: no such file or directory: '+fma'. clang: error: no such file or directory: '+bmi'. clang: error: no such file or directory: '+aes'. clang: error: no such file or directory: '+rdrnd'. clang: error: no such file or directory: '+xsaves'. clang: error: no such file or directory: '+sse4.1'. clang: error: no such file or directory: '+sse4.2'. clang: error: no such file or directory: '+avx2'. clang: error: no such file or directory: '+sse'. clang: error: no such file or directory: '+lzcnt'. clang: error: no such file or directory: '+pclmul'. clang: error: no such file or directory: '+f16c'. clang: error: no such file or directory: '+ssse3'. clang: error: no such file or directory: '+mmx'. clang: error: no such file or directory: '+cmov'. clang: error: language not recognized: 'op'. clang: error: no such file or directory: '+rdseed'. clang: error: no such file or directory: '+movbe'. clang: error: no such file or directory: '+hle'. clang: error: no such file or directory: '+xsaveopt'. clang: error: no such file or directory: '+sse2'. clang: error: no such file or directory: '+sse3'. "
     ],
     "output_type": "error"
    }
   ],
   "source": [
    "import theano\n",
    "#from theano import tensor as T"
   ]
  },
  {
   "cell_type": "code",
   "execution_count": null,
   "metadata": {
    "collapsed": false
   },
   "outputs": [],
   "source": [
    "# initialize\n",
    "x1 = T.scalar()\n",
    "w1 = T.scalar()\n",
    "w0 = T.scalar()\n",
    "z1 = w1 * x1 + w0\n",
    "\n",
    "# compile\n",
    "net_input = theano.function(inputs=[w1, x1, w0], outputs=z1)\n",
    "\n",
    "# execute\n",
    "net_input(2.0, 1.0, 0.5)"
   ]
  },
  {
   "cell_type": "markdown",
   "metadata": {},
   "source": [
    "<br>\n",
    "<br>"
   ]
  },
  {
   "cell_type": "markdown",
   "metadata": {},
   "source": [
    "## Configuring Theano"
   ]
  },
  {
   "cell_type": "markdown",
   "metadata": {},
   "source": [
    "[[back to top](#Sections)]"
   ]
  },
  {
   "cell_type": "markdown",
   "metadata": {},
   "source": [
    "Configuring Theano. For more options, see\n",
    "- http://deeplearning.net/software/theano/library/config.html\n",
    "- http://deeplearning.net/software/theano/library/floatX.html"
   ]
  },
  {
   "cell_type": "code",
   "execution_count": 2,
   "metadata": {
    "collapsed": false
   },
   "outputs": [
    {
     "ename": "NameError",
     "evalue": "name 'theano' is not defined",
     "traceback": [
      "\u001b[0;31m---------------------------------------------------------------------------\u001b[0m",
      "\u001b[0;31mNameError\u001b[0m                                 Traceback (most recent call last)",
      "\u001b[0;32m<ipython-input-2-a1e7a1ec680c>\u001b[0m in \u001b[0;36m<module>\u001b[0;34m()\u001b[0m\n\u001b[0;32m----> 1\u001b[0;31m \u001b[0mprint\u001b[0m\u001b[0;34m(\u001b[0m\u001b[0mtheano\u001b[0m\u001b[0;34m.\u001b[0m\u001b[0mconfig\u001b[0m\u001b[0;34m.\u001b[0m\u001b[0mfloatX\u001b[0m\u001b[0;34m)\u001b[0m\u001b[0;34m\u001b[0m\u001b[0m\n\u001b[0m",
      "\u001b[0;31mNameError\u001b[0m: name 'theano' is not defined"
     ],
     "output_type": "error"
    }
   ],
   "source": [
    "print(theano.config.floatX)"
   ]
  },
  {
   "cell_type": "code",
   "execution_count": null,
   "metadata": {
    "collapsed": true
   },
   "outputs": [],
   "source": [
    "theano.config.floatX = 'float32'"
   ]
  },
  {
   "cell_type": "markdown",
   "metadata": {},
   "source": [
    "To change the float type globally, execute \n",
    "\n",
    "    export THEANO_FLAGS=floatX=float32 \n",
    "    \n",
    "in your bash shell. Or execute Python script as\n",
    "\n",
    "    THEANO_FLAGS=floatX=float32 python your_script.py"
   ]
  },
  {
   "cell_type": "markdown",
   "metadata": {},
   "source": [
    "Running Theano on GPU(s). For prerequisites, please see: http://deeplearning.net/software/theano/tutorial/using_gpu.html\n",
    "\n",
    "Note that `float32` is recommended for GPUs; `float64` on GPUs is currently still relatively slow."
   ]
  },
  {
   "cell_type": "code",
   "execution_count": null,
   "metadata": {
    "collapsed": false
   },
   "outputs": [],
   "source": [
    "print(theano.config.device)"
   ]
  },
  {
   "cell_type": "markdown",
   "metadata": {},
   "source": [
    "You can run a Python script on CPU via:\n",
    "\n",
    "    THEANO_FLAGS=device=cpu,floatX=float64 python your_script.py\n",
    "\n",
    "or GPU via\n",
    "\n",
    "    THEANO_FLAGS=device=gpu,floatX=float32 python your_script.py"
   ]
  },
  {
   "cell_type": "markdown",
   "metadata": {},
   "source": [
    "It may also be convenient to create a `.theanorc` file in your home directory to make those configurations permanent. For example, to always use `float32`, execute\n",
    "\n",
    "    echo -e \"\\n[global]\\nfloatX=float32\\n\" >> ~/.theanorc\n",
    "    \n",
    "Or, create a `.theanorc` file manually with the following contents\n",
    "\n",
    "    [global]\n",
    "    floatX = float32\n",
    "    device = gpu\n"
   ]
  },
  {
   "cell_type": "markdown",
   "metadata": {},
   "source": [
    "<br>\n",
    "<br>"
   ]
  },
  {
   "cell_type": "markdown",
   "metadata": {},
   "source": [
    "## Working with array structures"
   ]
  },
  {
   "cell_type": "markdown",
   "metadata": {},
   "source": [
    "[[back to top](#Sections)]"
   ]
  },
  {
   "cell_type": "code",
   "execution_count": null,
   "metadata": {
    "collapsed": false
   },
   "outputs": [],
   "source": [
    "import numpy as np\n",
    "\n",
    "# initialize\n",
    "x = T.fmatrix(name='x')\n",
    "x_sum = T.sum(x, axis=0)\n",
    "\n",
    "# compile\n",
    "calc_sum = theano.function(inputs=[x], outputs=x_sum)\n",
    "\n",
    "# execute (Python list)\n",
    "ary = [[1, 2, 3], [1, 2, 3]]\n",
    "print('Column sum:', calc_sum(ary))\n",
    "\n",
    "# execute (NumPy array)\n",
    "ary = np.array([[1, 2, 3], [1, 2, 3]], dtype=theano.config.floatX)\n",
    "print('Column sum:', calc_sum(ary))"
   ]
  },
  {
   "cell_type": "markdown",
   "metadata": {},
   "source": [
    "Updating shared arrays.\n",
    "More info about memory management in Theano can be found here: http://deeplearning.net/software/theano/tutorial/aliasing.html"
   ]
  },
  {
   "cell_type": "code",
   "execution_count": null,
   "metadata": {
    "collapsed": false
   },
   "outputs": [],
   "source": [
    "# initialize\n",
    "x = T.fmatrix(name='x')\n",
    "w = theano.shared(np.asarray([[0.0, 0.0, 0.0]], \n",
    "                             dtype=theano.config.floatX))\n",
    "z = x.dot(w.T)\n",
    "update = [[w, w + 1.0]]\n",
    "\n",
    "# compile\n",
    "net_input = theano.function(inputs=[x], \n",
    "                            updates=update, \n",
    "                            outputs=z)\n",
    "\n",
    "# execute\n",
    "data = np.array([[1, 2, 3]], dtype=theano.config.floatX)\n",
    "for i in range(5):\n",
    "    print('z%d:' % i, net_input(data))"
   ]
  },
  {
   "cell_type": "markdown",
   "metadata": {},
   "source": [
    "We can use the `givens` variable to insert values into the graph before compiling it. Using this approach we can reduce the number of transfers from RAM (via CPUs) to GPUs to speed up learning with shared variables. If we use `inputs`, a datasets is transferred from the CPU to the GPU multiple times, for example, if we iterate over a dataset multiple times (epochs) during gradient descent. Via `givens`, we can keep the dataset on the GPU if it fits (e.g., a mini-batch). "
   ]
  },
  {
   "cell_type": "code",
   "execution_count": null,
   "metadata": {
    "collapsed": false
   },
   "outputs": [],
   "source": [
    "# initialize\n",
    "data = np.array([[1, 2, 3]], \n",
    "                dtype=theano.config.floatX)\n",
    "x = T.fmatrix(name='x')\n",
    "w = theano.shared(np.asarray([[0.0, 0.0, 0.0]], \n",
    "                             dtype=theano.config.floatX))\n",
    "z = x.dot(w.T)\n",
    "update = [[w, w + 1.0]]\n",
    "\n",
    "# compile\n",
    "net_input = theano.function(inputs=[], \n",
    "                            updates=update, \n",
    "                            givens={x: data},\n",
    "                            outputs=z)\n",
    "\n",
    "# execute\n",
    "for i in range(5):\n",
    "    print('z:', net_input())"
   ]
  },
  {
   "cell_type": "markdown",
   "metadata": {},
   "source": [
    "<br>\n",
    "<br>"
   ]
  },
  {
   "cell_type": "markdown",
   "metadata": {},
   "source": [
    "## Wrapping things up: A  linear regression example"
   ]
  },
  {
   "cell_type": "markdown",
   "metadata": {},
   "source": [
    "[[back to top](#Sections)]"
   ]
  },
  {
   "cell_type": "markdown",
   "metadata": {},
   "source": [
    "Creating some training data."
   ]
  },
  {
   "cell_type": "code",
   "execution_count": null,
   "metadata": {
    "collapsed": true
   },
   "outputs": [],
   "source": [
    "import numpy as np\n",
    "X_train = np.asarray([[0.0], [1.0], [2.0], [3.0], [4.0],\n",
    "                      [5.0], [6.0], [7.0], [8.0], [9.0]], \n",
    "                     dtype=theano.config.floatX)\n",
    "\n",
    "y_train = np.asarray([1.0, 1.3, 3.1, 2.0, 5.0, \n",
    "                      6.3, 6.6, 7.4, 8.0, 9.0], \n",
    "                     dtype=theano.config.floatX)"
   ]
  },
  {
   "cell_type": "markdown",
   "metadata": {},
   "source": [
    "Implementing the training function."
   ]
  },
  {
   "cell_type": "code",
   "execution_count": null,
   "metadata": {
    "collapsed": false
   },
   "outputs": [],
   "source": [
    "import theano\n",
    "from theano import tensor as T\n",
    "import numpy as np\n",
    "\n",
    "def train_linreg(X_train, y_train, eta, epochs):\n",
    "\n",
    "    costs = []\n",
    "    # Initialize arrays\n",
    "    eta0 = T.fscalar('eta0')\n",
    "    y = T.fvector(name='y') \n",
    "    X = T.fmatrix(name='X')   \n",
    "    w = theano.shared(np.zeros(\n",
    "                        shape=(X_train.shape[1] + 1),\n",
    "                        dtype=theano.config.floatX),\n",
    "                      name='w')\n",
    "    \n",
    "    # calculate cost\n",
    "    net_input = T.dot(X, w[1:]) + w[0]\n",
    "    errors = y - net_input\n",
    "    cost = T.sum(T.pow(errors, 2)) \n",
    "\n",
    "    # perform gradient update\n",
    "    gradient = T.grad(cost, wrt=w)\n",
    "    update = [(w, w - eta0 * gradient)]\n",
    "\n",
    "    # compile model\n",
    "    train = theano.function(inputs=[eta0],\n",
    "                            outputs=cost,\n",
    "                            updates=update,\n",
    "                            givens={X: X_train,\n",
    "                                    y: y_train,})      \n",
    "    \n",
    "    for _ in range(epochs):\n",
    "        costs.append(train(eta))\n",
    "    \n",
    "    return costs, w"
   ]
  },
  {
   "cell_type": "markdown",
   "metadata": {},
   "source": [
    "Plotting the sum of squared errors cost vs epochs."
   ]
  },
  {
   "cell_type": "code",
   "execution_count": null,
   "metadata": {
    "collapsed": false
   },
   "outputs": [],
   "source": [
    "%matplotlib inline\n",
    "import matplotlib.pyplot as plt\n",
    "\n",
    "costs, w = train_linreg(X_train, y_train, eta=0.001, epochs=10)\n",
    "   \n",
    "plt.plot(range(1, len(costs)+1), costs)\n",
    "\n",
    "plt.tight_layout()\n",
    "plt.xlabel('Epoch')\n",
    "plt.ylabel('Cost')\n",
    "plt.tight_layout()\n",
    "# plt.savefig('./figures/cost_convergence.png', dpi=300)\n",
    "plt.show()"
   ]
  },
  {
   "cell_type": "markdown",
   "metadata": {},
   "source": [
    "Making predictions."
   ]
  },
  {
   "cell_type": "code",
   "execution_count": null,
   "metadata": {
    "collapsed": false
   },
   "outputs": [],
   "source": [
    "def predict_linreg(X, w):\n",
    "    Xt = T.matrix(name='X')\n",
    "    net_input = T.dot(Xt, w[1:]) + w[0]\n",
    "    predict = theano.function(inputs=[Xt], givens={w: w}, outputs=net_input)\n",
    "    return predict(X)\n",
    "\n",
    "plt.scatter(X_train, y_train, marker='s', s=50)\n",
    "plt.plot(range(X_train.shape[0]), \n",
    "         predict_linreg(X_train, w), \n",
    "         color='gray', \n",
    "         marker='o', \n",
    "         markersize=4, \n",
    "         linewidth=3)\n",
    "\n",
    "plt.xlabel('x')\n",
    "plt.ylabel('y')\n",
    "\n",
    "plt.tight_layout()\n",
    "# plt.savefig('./figures/linreg.png', dpi=300)\n",
    "plt.show()"
   ]
  },
  {
   "cell_type": "markdown",
   "metadata": {},
   "source": [
    "<br>\n",
    "<br>"
   ]
  },
  {
   "cell_type": "markdown",
   "metadata": {},
   "source": [
    "# Choosing activation functions for feedforward neural networks"
   ]
  },
  {
   "cell_type": "markdown",
   "metadata": {},
   "source": [
    "[[back to top](#Sections)]"
   ]
  },
  {
   "cell_type": "markdown",
   "metadata": {},
   "source": [
    "<br>\n",
    "<br>"
   ]
  },
  {
   "cell_type": "markdown",
   "metadata": {},
   "source": [
    "## Logistic function recap"
   ]
  },
  {
   "cell_type": "markdown",
   "metadata": {},
   "source": [
    "[[back to top](#Sections)]"
   ]
  },
  {
   "cell_type": "markdown",
   "metadata": {},
   "source": [
    "The logistic function, often just called \"sigmoid function\" is in fact a special case of a sigmoid function.\n",
    "\n",
    "Net input $z$:\n",
    "$$z =  w_1x_{1} + \\dots + w_mx_{m} = \\sum_{j=1}^{m} x_{j}w_{j} \\\\ = \\mathbf{w}^T\\mathbf{x}$$\n",
    "\n",
    "Logistic activation function:\n",
    "\n",
    "$$\\phi_{logistic}(z) = \\frac{1}{1 +  e^{-z}}$$\n",
    "\n",
    "Output range: (0, 1)"
   ]
  },
  {
   "cell_type": "code",
   "execution_count": null,
   "metadata": {
    "collapsed": false
   },
   "outputs": [],
   "source": [
    "# note that first element (X[0] = 1) to denote bias unit\n",
    "\n",
    "X = np.array([[1, 1.4, 1.5]])\n",
    "w = np.array([0.0, 0.2, 0.4])\n",
    "\n",
    "def net_input(X, w):\n",
    "    z = X.dot(w)\n",
    "    return z\n",
    "\n",
    "def logistic(z):\n",
    "    return 1.0 / (1.0 + np.exp(-z))\n",
    "\n",
    "def logistic_activation(X, w):\n",
    "    z = net_input(X, w)\n",
    "    return logistic(z)\n",
    "\n",
    "print('P(y=1|x) = %.3f' % logistic_activation(X, w)[0])"
   ]
  },
  {
   "cell_type": "markdown",
   "metadata": {},
   "source": [
    "Now, imagine a MLP perceptron with 3 hidden units + 1 bias unit in the hidden unit. The output layer consists of 3 output units."
   ]
  },
  {
   "cell_type": "code",
   "execution_count": null,
   "metadata": {
    "collapsed": false
   },
   "outputs": [],
   "source": [
    "# W : array, shape = [n_output_units, n_hidden_units+1]\n",
    "#          Weight matrix for hidden layer -> output layer.\n",
    "# note that first column (A[:][0] = 1) are the bias units\n",
    "W = np.array([[1.1, 1.2, 1.3, 0.5],\n",
    "              [0.1, 0.2, 0.4, 0.1],\n",
    "              [0.2, 0.5, 2.1, 1.9]])\n",
    "\n",
    "# A : array, shape = [n_hidden+1, n_samples]\n",
    "#          Activation of hidden layer.\n",
    "# note that first element (A[0][0] = 1) is for the bias units\n",
    "\n",
    "A = np.array([[1.0], \n",
    "              [0.1], \n",
    "              [0.3], \n",
    "              [0.7]])\n",
    "\n",
    "# Z : array, shape = [n_output_units, n_samples]\n",
    "#          Net input of output layer.\n",
    "\n",
    "Z = W.dot(A) \n",
    "y_probas = logistic(Z)\n",
    "print('Probabilities:\\n', y_probas)"
   ]
  },
  {
   "cell_type": "code",
   "execution_count": null,
   "metadata": {
    "collapsed": false
   },
   "outputs": [],
   "source": [
    "y_class = np.argmax(Z, axis=0)\n",
    "print('predicted class label: %d' % y_class[0])"
   ]
  },
  {
   "cell_type": "markdown",
   "metadata": {},
   "source": [
    "<br>\n",
    "<br>"
   ]
  },
  {
   "cell_type": "markdown",
   "metadata": {},
   "source": [
    "## Estimating probabilities in multi-class classification via the softmax function"
   ]
  },
  {
   "cell_type": "markdown",
   "metadata": {},
   "source": [
    "[[back to top](#Sections)]"
   ]
  },
  {
   "cell_type": "markdown",
   "metadata": {},
   "source": [
    "The softmax function is a generalization of the logistic function and allows us to compute meaningful class-probalities in multi-class settings (multinomial logistic regression).\n",
    "\n",
    "$$P(y=j|z) =\\phi_{softmax}(z) = \\frac{e^{z_j}}{\\sum_{k=1}^K e^{z_k}}$$\n",
    "\n",
    "the input to the function is the result of K distinct linear functions, and the predicted probability for the j'th class given a sample vector x is:\n",
    "\n",
    "Output range: (0, 1)"
   ]
  },
  {
   "cell_type": "code",
   "execution_count": null,
   "metadata": {
    "collapsed": true
   },
   "outputs": [],
   "source": [
    "def softmax(z): \n",
    "    return np.exp(z) / np.sum(np.exp(z))\n",
    "\n",
    "def softmax_activation(X, w):\n",
    "    z = net_input(X, w)\n",
    "    return sigmoid(z)"
   ]
  },
  {
   "cell_type": "code",
   "execution_count": null,
   "metadata": {
    "collapsed": false
   },
   "outputs": [],
   "source": [
    "y_probas = softmax(Z)\n",
    "print('Probabilities:\\n', y_probas)"
   ]
  },
  {
   "cell_type": "code",
   "execution_count": null,
   "metadata": {
    "collapsed": false
   },
   "outputs": [],
   "source": [
    "y_probas.sum()"
   ]
  },
  {
   "cell_type": "code",
   "execution_count": null,
   "metadata": {
    "collapsed": false
   },
   "outputs": [],
   "source": [
    "y_class = np.argmax(Z, axis=0)\n",
    "y_class"
   ]
  },
  {
   "cell_type": "markdown",
   "metadata": {},
   "source": [
    "<br>\n",
    "<br>"
   ]
  },
  {
   "cell_type": "markdown",
   "metadata": {},
   "source": [
    "## Broadening the output spectrum using a hyperbolic tangent"
   ]
  },
  {
   "cell_type": "markdown",
   "metadata": {},
   "source": [
    "[[back to top](#Sections)]"
   ]
  },
  {
   "cell_type": "markdown",
   "metadata": {},
   "source": [
    "Another special case of a sigmoid function, it can be interpreted as a rescaled version of the logistic function.\n",
    "\n",
    "$$\\phi_{tanh}(z) = \\frac{e^{z}-e^{-z}}{e^{z}+e^{-z}}$$\n",
    "\n",
    "Output range: (-1, 1)"
   ]
  },
  {
   "cell_type": "code",
   "execution_count": null,
   "metadata": {
    "collapsed": true
   },
   "outputs": [],
   "source": [
    "def tanh(z):\n",
    "    e_p = np.exp(z) \n",
    "    e_m = np.exp(-z)\n",
    "    return (e_p - e_m) / (e_p + e_m)"
   ]
  },
  {
   "cell_type": "code",
   "execution_count": null,
   "metadata": {
    "collapsed": false
   },
   "outputs": [],
   "source": [
    "import matplotlib.pyplot as plt\n",
    "%matplotlib inline\n",
    "\n",
    "z = np.arange(-5, 5, 0.005)\n",
    "log_act = logistic(z)\n",
    "tanh_act = tanh(z)\n",
    "\n",
    "# alternatives:\n",
    "# from scipy.special import expit\n",
    "# log_act = expit(z)\n",
    "# tanh_act = np.tanh(z)\n",
    "\n",
    "plt.ylim([-1.5, 1.5])\n",
    "plt.xlabel('net input $z$')\n",
    "plt.ylabel('activation $\\phi(z)$')\n",
    "plt.axhline(1, color='black', linestyle='--')\n",
    "plt.axhline(0.5, color='black', linestyle='--')\n",
    "plt.axhline(0, color='black', linestyle='--')\n",
    "plt.axhline(-1, color='black', linestyle='--')\n",
    "\n",
    "plt.plot(z, tanh_act, \n",
    "         linewidth=2, \n",
    "         color='black', \n",
    "         label='tanh')\n",
    "plt.plot(z, log_act, \n",
    "         linewidth=2, \n",
    "         color='lightgreen', \n",
    "         label='logistic')\n",
    "\n",
    "plt.legend(loc='lower right')\n",
    "plt.tight_layout()\n",
    "# plt.savefig('./figures/activation.png', dpi=300)\n",
    "plt.show()"
   ]
  },
  {
   "cell_type": "markdown",
   "metadata": {},
   "source": [
    "<br>\n",
    "<br>"
   ]
  },
  {
   "cell_type": "markdown",
   "metadata": {},
   "source": [
    "# Keras"
   ]
  },
  {
   "cell_type": "markdown",
   "metadata": {},
   "source": [
    "[[back to top](#Sections)]"
   ]
  },
  {
   "cell_type": "markdown",
   "metadata": {},
   "source": [
    "### Loading MNIST"
   ]
  },
  {
   "cell_type": "markdown",
   "metadata": {},
   "source": [
    "1) Download the 4 MNIST datasets from http://yann.lecun.com/exdb/mnist/\n",
    "\n",
    "- train-images-idx3-ubyte.gz:  training set images (9912422 bytes) \n",
    "- train-labels-idx1-ubyte.gz:  training set labels (28881 bytes) \n",
    "- t10k-images-idx3-ubyte.gz:   test set images (1648877 bytes) \n",
    "- t10k-labels-idx1-ubyte.gz:   test set labels (4542 bytes)\n",
    "\n",
    "2) Unzip those files\n",
    "\n",
    "3 Copy the unzipped files to a directory `./mnist`"
   ]
  },
  {
   "cell_type": "code",
   "execution_count": null,
   "metadata": {
    "collapsed": true
   },
   "outputs": [],
   "source": [
    "import os\n",
    "import struct\n",
    "import numpy as np\n",
    " \n",
    "def load_mnist(path, kind='train'):\n",
    "    \"\"\"Load MNIST data from `path`\"\"\"\n",
    "    labels_path = os.path.join(path, \n",
    "                               '%s-labels-idx1-ubyte' \n",
    "                                % kind)\n",
    "    images_path = os.path.join(path, \n",
    "                               '%s-images-idx3-ubyte' \n",
    "                               % kind)\n",
    "        \n",
    "    with open(labels_path, 'rb') as lbpath:\n",
    "        magic, n = struct.unpack('>II', \n",
    "                                 lbpath.read(8))\n",
    "        labels = np.fromfile(lbpath, \n",
    "                             dtype=np.uint8)\n",
    "\n",
    "    with open(images_path, 'rb') as imgpath:\n",
    "        magic, num, rows, cols = struct.unpack(\">IIII\", \n",
    "                                               imgpath.read(16))\n",
    "        images = np.fromfile(imgpath, \n",
    "                             dtype=np.uint8).reshape(len(labels), 784)\n",
    " \n",
    "    return images, labels"
   ]
  },
  {
   "cell_type": "code",
   "execution_count": null,
   "metadata": {
    "collapsed": false
   },
   "outputs": [],
   "source": [
    "X_train, y_train = load_mnist('mnist', kind='train')\n",
    "print('Rows: %d, columns: %d' % (X_train.shape[0], X_train.shape[1]))"
   ]
  },
  {
   "cell_type": "code",
   "execution_count": null,
   "metadata": {
    "collapsed": false
   },
   "outputs": [],
   "source": [
    "X_test, y_test = load_mnist('mnist', kind='t10k')\n",
    "print('Rows: %d, columns: %d' % (X_test.shape[0], X_test.shape[1]))"
   ]
  },
  {
   "cell_type": "markdown",
   "metadata": {},
   "source": [
    "### Multi-layer Perceptron in Keras"
   ]
  },
  {
   "cell_type": "markdown",
   "metadata": {},
   "source": [
    "Once you have Theano installed, [Keras](https://github.com/fchollet/keras) can be installed via\n",
    "\n",
    "    pip install Keras"
   ]
  },
  {
   "cell_type": "markdown",
   "metadata": {
    "collapsed": false
   },
   "source": [
    "In order to run the following code via GPU, you can execute the Python script that was placed in this directory via\n",
    "\n",
    "    THEANO_FLAGS=mode=FAST_RUN,device=gpu,floatX=float32 python mnist_keras_mlp.py"
   ]
  },
  {
   "cell_type": "code",
   "execution_count": null,
   "metadata": {
    "collapsed": false
   },
   "outputs": [],
   "source": [
    "import theano \n",
    "\n",
    "theano.config.floatX = 'float32'\n",
    "X_train = X_train.astype(theano.config.floatX)\n",
    "X_test = X_test.astype(theano.config.floatX)"
   ]
  },
  {
   "cell_type": "markdown",
   "metadata": {},
   "source": [
    "One-hot encoding of the class variable:"
   ]
  },
  {
   "cell_type": "code",
   "execution_count": null,
   "metadata": {
    "collapsed": false
   },
   "outputs": [],
   "source": [
    "from keras.utils import np_utils\n",
    "\n",
    "print('First 3 labels: ', y_train[:3])\n",
    "\n",
    "y_train_ohe = np_utils.to_categorical(y_train) \n",
    "print('\\nFirst 3 labels (one-hot):\\n', y_train_ohe[:3])"
   ]
  },
  {
   "cell_type": "code",
   "execution_count": null,
   "metadata": {
    "collapsed": false
   },
   "outputs": [],
   "source": [
    "from keras.models import Sequential\n",
    "from keras.layers.core import Dense\n",
    "from keras.optimizers import SGD\n",
    "\n",
    "np.random.seed(1) \n",
    "\n",
    "model = Sequential()\n",
    "model.add(Dense(input_dim=X_train.shape[1], \n",
    "                output_dim=50, \n",
    "                init='uniform', \n",
    "                activation='tanh'))\n",
    "\n",
    "model.add(Dense(input_dim=50, \n",
    "                output_dim=50, \n",
    "                init='uniform', \n",
    "                activation='tanh'))\n",
    "\n",
    "model.add(Dense(input_dim=50, \n",
    "                output_dim=y_train_ohe.shape[1], \n",
    "                init='uniform', \n",
    "                activation='softmax'))\n",
    "\n",
    "sgd = SGD(lr=0.001, decay=1e-7, momentum=.9)\n",
    "model.compile(loss='categorical_crossentropy', optimizer=sgd)\n",
    "\n",
    "model.fit(X_train, y_train_ohe, \n",
    "          nb_epoch=50, \n",
    "          batch_size=300, \n",
    "          verbose=1, \n",
    "          validation_split=0.1, \n",
    "          show_accuracy=True)"
   ]
  },
  {
   "cell_type": "code",
   "execution_count": null,
   "metadata": {
    "collapsed": false
   },
   "outputs": [],
   "source": [
    "y_train_pred = model.predict_classes(X_train, verbose=0)\n",
    "print('First 3 predictions: ', y_train_pred[:3])"
   ]
  },
  {
   "cell_type": "code",
   "execution_count": null,
   "metadata": {
    "collapsed": false
   },
   "outputs": [],
   "source": [
    "train_acc = np.sum(y_train == y_train_pred, axis=0) / X_train.shape[0]\n",
    "print('Training accuracy: %.2f%%' % (train_acc * 100))"
   ]
  },
  {
   "cell_type": "code",
   "execution_count": null,
   "metadata": {
    "collapsed": false
   },
   "outputs": [],
   "source": [
    "y_test_pred = model.predict_classes(X_test, verbose=0)\n",
    "test_acc = np.sum(y_test == y_test_pred, axis=0) / X_test.shape[0]\n",
    "print('Test accuracy: %.2f%%' % (test_acc * 100))"
   ]
  },
  {
   "cell_type": "code",
   "execution_count": null,
   "metadata": {
    "collapsed": true
   },
   "outputs": [],
   "source": [
    ""
   ]
  }
 ],
 "metadata": {
  "kernelspec": {
   "display_name": "Python 3",
   "language": "python",
   "name": "python3"
  },
  "language_info": {
   "codemirror_mode": {
    "name": "ipython",
    "version": 3.0
   },
   "file_extension": ".py",
   "mimetype": "text/x-python",
   "name": "python",
   "nbconvert_exporter": "python",
   "pygments_lexer": "ipython3",
   "version": "3.5.1"
  }
 },
 "nbformat": 4,
 "nbformat_minor": 0
}