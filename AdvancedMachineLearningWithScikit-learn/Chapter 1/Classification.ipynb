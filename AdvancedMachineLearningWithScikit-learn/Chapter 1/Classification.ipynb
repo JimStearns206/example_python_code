{
 "cells": [
  {
   "cell_type": "code",
   "execution_count": 1,
   "metadata": {
    "collapsed": true
   },
   "outputs": [],
   "source": [
    "import matplotlib.pyplot as plt\n",
    "import numpy as np\n",
    "%matplotlib inline"
   ]
  },
  {
   "cell_type": "markdown",
   "metadata": {},
   "source": [
    "Classification\n",
    "==============="
   ]
  },
  {
   "cell_type": "markdown",
   "metadata": {},
   "source": [
    "Get some data to play with"
   ]
  },
  {
   "cell_type": "code",
   "execution_count": 2,
   "metadata": {
    "collapsed": false
   },
   "outputs": [
    {
     "data": {
      "text/plain": [
       "dict_keys(['data', 'images', 'target', 'target_names', 'DESCR'])"
      ]
     },
     "execution_count": 2,
     "metadata": {},
     "output_type": "execute_result"
    }
   ],
   "source": [
    "from sklearn.datasets import load_digits\n",
    "digits = load_digits()\n",
    "digits.keys()"
   ]
  },
  {
   "cell_type": "code",
   "execution_count": 3,
   "metadata": {
    "collapsed": false
   },
   "outputs": [
    {
     "data": {
      "text/plain": [
       "(1797, 8, 8)"
      ]
     },
     "execution_count": 3,
     "metadata": {},
     "output_type": "execute_result"
    }
   ],
   "source": [
    "digits.images.shape"
   ]
  },
  {
   "cell_type": "code",
   "execution_count": 4,
   "metadata": {
    "collapsed": false
   },
   "outputs": [
    {
     "name": "stdout",
     "output_type": "stream",
     "text": [
      "[[  0.   0.   5.  13.   9.   1.   0.   0.]\n",
      " [  0.   0.  13.  15.  10.  15.   5.   0.]\n",
      " [  0.   3.  15.   2.   0.  11.   8.   0.]\n",
      " [  0.   4.  12.   0.   0.   8.   8.   0.]\n",
      " [  0.   5.   8.   0.   0.   9.   8.   0.]\n",
      " [  0.   4.  11.   0.   1.  12.   7.   0.]\n",
      " [  0.   2.  14.   5.  10.  12.   0.   0.]\n",
      " [  0.   0.   6.  13.  10.   0.   0.   0.]]\n"
     ]
    }
   ],
   "source": [
    "print(digits.images[0])"
   ]
  },
  {
   "cell_type": "code",
   "execution_count": 5,
   "metadata": {
    "collapsed": false
   },
   "outputs": [
    {
     "data": {
      "text/plain": [
       "<matplotlib.image.AxesImage at 0x10c898c50>"
      ]
     },
     "execution_count": 5,
     "metadata": {},
     "output_type": "execute_result"
    },
    {
     "data": {
      "image/png": "[encoded data removed]",
      "text/plain": [
       "<matplotlib.figure.Figure at 0x10cbab860>"
      ]
     },
     "metadata": {},
     "output_type": "display_data"
    }
   ],
   "source": [
    "plt.matshow(digits.images[0], cmap=plt.cm.Greys)"
   ]
  },
  {
   "cell_type": "code",
   "execution_count": 6,
   "metadata": {
    "collapsed": false
   },
   "outputs": [
    {
     "data": {
      "text/plain": [
       "(1797, 64)"
      ]
     },
     "execution_count": 6,
     "metadata": {},
     "output_type": "execute_result"
    }
   ],
   "source": [
    "digits.data.shape"
   ]
  },
  {
   "cell_type": "code",
   "execution_count": 7,
   "metadata": {
    "collapsed": false
   },
   "outputs": [
    {
     "data": {
      "text/plain": [
       "(1797,)"
      ]
     },
     "execution_count": 7,
     "metadata": {},
     "output_type": "execute_result"
    }
   ],
   "source": [
    "digits.target.shape"
   ]
  },
  {
   "cell_type": "code",
   "execution_count": 8,
   "metadata": {
    "collapsed": false
   },
   "outputs": [
    {
     "data": {
      "text/plain": [
       "array([0, 1, 2, ..., 8, 9, 8])"
      ]
     },
     "execution_count": 8,
     "metadata": {},
     "output_type": "execute_result"
    }
   ],
   "source": [
    "digits.target"
   ]
  },
  {
   "cell_type": "markdown",
   "metadata": {},
   "source": [
    "**Data is always a numpy array (or sparse matrix) of shape (n_samples, n_features)**"
   ]
  },
  {
   "cell_type": "markdown",
   "metadata": {},
   "source": [
    "Split the data to get going"
   ]
  },
  {
   "cell_type": "code",
   "execution_count": 9,
   "metadata": {
    "collapsed": false
   },
   "outputs": [],
   "source": [
    "from sklearn.cross_validation import train_test_split\n",
    "X_train, X_test, y_train, y_test = train_test_split(digits.data, digits.target)"
   ]
  },
  {
   "cell_type": "markdown",
   "metadata": {},
   "source": [
    "Really Simple API\n",
    "-------------------\n",
    "0) Import your model class"
   ]
  },
  {
   "cell_type": "code",
   "execution_count": 10,
   "metadata": {
    "collapsed": false
   },
   "outputs": [],
   "source": [
    "from sklearn.svm import LinearSVC"
   ]
  },
  {
   "cell_type": "markdown",
   "metadata": {},
   "source": [
    "1) Instantiate an object and set the parameters"
   ]
  },
  {
   "cell_type": "code",
   "execution_count": 11,
   "metadata": {
    "collapsed": false
   },
   "outputs": [],
   "source": [
    "svm = LinearSVC(C=0.1)"
   ]
  },
  {
   "cell_type": "markdown",
   "metadata": {},
   "source": [
    "2) Fit the model"
   ]
  },
  {
   "cell_type": "code",
   "execution_count": 12,
   "metadata": {
    "collapsed": false
   },
   "outputs": [
    {
     "data": {
      "text/plain": [
       "LinearSVC(C=0.1, class_weight=None, dual=True, fit_intercept=True,\n",
       "     intercept_scaling=1, loss='squared_hinge', max_iter=1000,\n",
       "     multi_class='ovr', penalty='l2', random_state=None, tol=0.0001,\n",
       "     verbose=0)"
      ]
     },
     "execution_count": 12,
     "metadata": {},
     "output_type": "execute_result"
    }
   ],
   "source": [
    "svm.fit(X_train, y_train)"
   ]
  },
  {
   "cell_type": "markdown",
   "metadata": {},
   "source": [
    "3) Apply / evaluate"
   ]
  },
  {
   "cell_type": "code",
   "execution_count": 13,
   "metadata": {
    "collapsed": false
   },
   "outputs": [
    {
     "name": "stdout",
     "output_type": "stream",
     "text": [
      "[5 5 3 ..., 0 4 1]\n",
      "[5 5 3 ..., 0 4 1]\n"
     ]
    }
   ],
   "source": [
    "print(svm.predict(X_train))\n",
    "print(y_train)"
   ]
  },
  {
   "cell_type": "code",
   "execution_count": 14,
   "metadata": {
    "collapsed": false
   },
   "outputs": [
    {
     "data": {
      "text/plain": [
       "0.99034892353377879"
      ]
     },
     "execution_count": 14,
     "metadata": {},
     "output_type": "execute_result"
    }
   ],
   "source": [
    "svm.score(X_train, y_train)"
   ]
  },
  {
   "cell_type": "code",
   "execution_count": 15,
   "metadata": {
    "collapsed": false
   },
   "outputs": [
    {
     "data": {
      "text/plain": [
       "0.9555555555555556"
      ]
     },
     "execution_count": 15,
     "metadata": {},
     "output_type": "execute_result"
    }
   ],
   "source": [
    "svm.score(X_test, y_test)"
   ]
  },
  {
   "cell_type": "markdown",
   "metadata": {},
   "source": [
    "And again\n",
    "---------"
   ]
  },
  {
   "cell_type": "code",
   "execution_count": 16,
   "metadata": {
    "collapsed": false
   },
   "outputs": [],
   "source": [
    "from sklearn.ensemble import RandomForestClassifier"
   ]
  },
  {
   "cell_type": "code",
   "execution_count": 17,
   "metadata": {
    "collapsed": false
   },
   "outputs": [],
   "source": [
    "rf = RandomForestClassifier(n_estimators=50)"
   ]
  },
  {
   "cell_type": "code",
   "execution_count": 18,
   "metadata": {
    "collapsed": false
   },
   "outputs": [
    {
     "data": {
      "text/plain": [
       "RandomForestClassifier(bootstrap=True, class_weight=None, criterion='gini',\n",
       "            max_depth=None, max_features='auto', max_leaf_nodes=None,\n",
       "            min_samples_leaf=1, min_samples_split=2,\n",
       "            min_weight_fraction_leaf=0.0, n_estimators=50, n_jobs=1,\n",
       "            oob_score=False, random_state=None, verbose=0,\n",
       "            warm_start=False)"
      ]
     },
     "execution_count": 18,
     "metadata": {},
     "output_type": "execute_result"
    }
   ],
   "source": [
    "rf.fit(X_train, y_train)"
   ]
  },
  {
   "cell_type": "code",
   "execution_count": 19,
   "metadata": {
    "collapsed": false
   },
   "outputs": [
    {
     "data": {
      "text/plain": [
       "array([8, 2, 7, 8, 9, 7, 4, 8, 2, 4, 6, 0, 6, 7, 3, 9, 9, 9, 4, 5, 7, 5, 2,\n",
       "       1, 3, 1, 5, 1, 5, 9, 4, 1, 8, 5, 1, 2, 3, 4, 0, 0, 9, 5, 3, 6, 9, 2,\n",
       "       7, 1, 1, 9, 6, 0, 6, 9, 9, 2, 0, 5, 7, 6, 7, 5, 4, 7, 5, 7, 5, 9, 1,\n",
       "       3, 6, 2, 1, 0, 4, 1, 7, 7, 9, 6, 0, 7, 3, 4, 2, 7, 4, 3, 8, 0, 9, 5,\n",
       "       2, 5, 1, 1, 5, 7, 5, 1, 9, 3, 0, 1, 7, 6, 5, 6, 8, 6, 4, 5, 7, 2, 8,\n",
       "       1, 0, 8, 5, 6, 3, 2, 4, 2, 3, 9, 7, 1, 6, 9, 1, 5, 7, 5, 1, 5, 2, 0,\n",
       "       7, 5, 3, 7, 0, 4, 0, 9, 5, 3, 3, 3, 3, 8, 3, 2, 2, 8, 5, 2, 9, 9, 7,\n",
       "       6, 4, 5, 8, 0, 1, 9, 6, 6, 0, 8, 9, 3, 3, 1, 7, 4, 1, 5, 0, 0, 0, 9,\n",
       "       8, 3, 2, 1, 1, 2, 3, 4, 2, 6, 2, 0, 3, 2, 2, 7, 4, 3, 6, 3, 5, 8, 9,\n",
       "       4, 5, 0, 8, 0, 5, 6, 9, 7, 5, 9, 0, 3, 9, 7, 6, 8, 0, 8, 8, 4, 0, 7,\n",
       "       6, 5, 5, 5, 7, 5, 1, 1, 1, 2, 1, 1, 3, 2, 3, 1, 5, 4, 8, 5, 9, 8, 5,\n",
       "       3, 6, 2, 6, 9, 8, 7, 4, 6, 6, 1, 9, 7, 7, 3, 0, 6, 3, 0, 3, 3, 7, 9,\n",
       "       0, 4, 5, 1, 7, 6, 5, 3, 0, 2, 7, 1, 7, 4, 8, 9, 1, 9, 7, 7, 4, 6, 7,\n",
       "       5, 8, 8, 7, 9, 1, 0, 8, 5, 6, 3, 5, 5, 9, 5, 9, 0, 6, 2, 1, 1, 1, 6,\n",
       "       8, 5, 6, 2, 5, 7, 7, 9, 9, 1, 3, 2, 6, 5, 0, 3, 1, 3, 3, 2, 0, 3, 0,\n",
       "       8, 9, 1, 9, 6, 6, 6, 6, 1, 5, 5, 3, 6, 9, 4, 1, 4, 9, 0, 5, 6, 9, 2,\n",
       "       8, 3, 2, 0, 3, 4, 6, 0, 1, 2, 6, 7, 7, 2, 7, 8, 8, 6, 2, 6, 0, 5, 2,\n",
       "       3, 8, 2, 3, 5, 4, 7, 1, 1, 7, 1, 1, 1, 2, 5, 6, 2, 1, 1, 4, 1, 2, 8,\n",
       "       4, 5, 6, 9, 8, 1, 4, 2, 7, 4, 4, 5, 9, 3, 9, 5, 8, 2, 7, 7, 4, 3, 9,\n",
       "       0, 6, 9, 6, 8, 5, 4, 7, 9, 2, 8, 2, 5])"
      ]
     },
     "execution_count": 19,
     "metadata": {},
     "output_type": "execute_result"
    }
   ],
   "source": [
    "rf.predict(X_test)"
   ]
  },
  {
   "cell_type": "code",
   "execution_count": 20,
   "metadata": {
    "collapsed": false
   },
   "outputs": [
    {
     "data": {
      "text/plain": [
       "0.97555555555555551"
      ]
     },
     "execution_count": 20,
     "metadata": {},
     "output_type": "execute_result"
    }
   ],
   "source": [
    "rf.score(X_test, y_test)"
   ]
  },
  {
   "cell_type": "markdown",
   "metadata": {
    "collapsed": false
   },
   "source": [
    "<h1>Classifier Comparison</h1>\n",
    "<img src=\"classifier_comparison.png\" width=100%>"
   ]
  },
  {
   "cell_type": "markdown",
   "metadata": {},
   "source": [
    "Labels Can Be Anything\n",
    "============================="
   ]
  },
  {
   "cell_type": "code",
   "execution_count": 21,
   "metadata": {
    "collapsed": false
   },
   "outputs": [],
   "source": [
    "numbers = np.array([\"zero\", \"one\", \"two\", \"three\", \"four\", \"five\", \"six\", \"seven\", \"eight\", \"nine\"])"
   ]
  },
  {
   "cell_type": "code",
   "execution_count": 25,
   "metadata": {
    "collapsed": false
   },
   "outputs": [
    {
     "name": "stdout",
     "output_type": "stream",
     "text": [
      "<class 'numpy.ndarray'>\n",
      "(1347,)\n"
     ]
    },
    {
     "data": {
      "text/plain": [
       "LinearSVC(C=0.1, class_weight=None, dual=True, fit_intercept=True,\n",
       "     intercept_scaling=1, loss='squared_hinge', max_iter=1000,\n",
       "     multi_class='ovr', penalty='l2', random_state=None, tol=0.0001,\n",
       "     verbose=0)"
      ]
     },
     "execution_count": 25,
     "metadata": {},
     "output_type": "execute_result"
    }
   ],
   "source": [
    "y_train_string = numbers[y_train]\n",
    "print(type(y_train_string))\n",
    "print(y_train_string.shape)\n",
    "svm.fit(X_train, y_train_string)"
   ]
  },
  {
   "cell_type": "code",
   "execution_count": 26,
   "metadata": {
    "collapsed": false,
    "scrolled": true
   },
   "outputs": [
    {
     "data": {
      "text/plain": [
       "array(['eight', 'two', 'seven', 'eight', 'nine', 'seven', 'four', 'eight',\n",
       "       'two', 'four', 'six', 'zero', 'six', 'seven', 'three', 'nine',\n",
       "       'nine', 'nine', 'four', 'five', 'seven', 'five', 'two', 'one',\n",
       "       'three', 'one', 'five', 'one', 'five', 'nine', 'four', 'one',\n",
       "       'eight', 'five', 'one', 'two', 'three', 'five', 'zero', 'zero',\n",
       "       'nine', 'five', 'three', 'six', 'nine', 'two', 'seven', 'one',\n",
       "       'one', 'nine', 'six', 'zero', 'six', 'nine', 'nine', 'two', 'zero',\n",
       "       'five', 'seven', 'six', 'seven', 'five', 'four', 'seven', 'five',\n",
       "       'seven', 'five', 'nine', 'one', 'three', 'six', 'two', 'one',\n",
       "       'zero', 'four', 'nine', 'seven', 'seven', 'nine', 'six', 'zero',\n",
       "       'seven', 'three', 'four', 'two', 'seven', 'four', 'three', 'eight',\n",
       "       'zero', 'nine', 'five', 'two', 'five', 'one', 'one', 'five',\n",
       "       'seven', 'five', 'one', 'nine', 'seven', 'zero', 'eight', 'seven',\n",
       "       'six', 'five', 'six', 'eight', 'six', 'four', 'five', 'seven',\n",
       "       'two', 'eight', 'one', 'zero', 'eight', 'five', 'six', 'three',\n",
       "       'two', 'four', 'two', 'five', 'nine', 'seven', 'one', 'six', 'nine',\n",
       "       'one', 'five', 'seven', 'five', 'one', 'five', 'two', 'zero',\n",
       "       'seven', 'five', 'three', 'seven', 'zero', 'four', 'zero', 'nine',\n",
       "       'five', 'three', 'three', 'three', 'three', 'one', 'seven', 'two',\n",
       "       'two', 'eight', 'five', 'two', 'nine', 'nine', 'seven', 'six',\n",
       "       'four', 'five', 'eight', 'zero', 'one', 'nine', 'six', 'six',\n",
       "       'zero', 'eight', 'nine', 'three', 'three', 'one', 'seven', 'four',\n",
       "       'one', 'five', 'zero', 'zero', 'zero', 'nine', 'eight', 'three',\n",
       "       'two', 'one', 'one', 'two', 'nine', 'four', 'two', 'six', 'two',\n",
       "       'zero', 'three', 'two', 'two', 'seven', 'four', 'nine', 'six',\n",
       "       'three', 'five', 'eight', 'nine', 'four', 'five', 'zero', 'eight',\n",
       "       'zero', 'five', 'six', 'nine', 'seven', 'five', 'nine', 'zero',\n",
       "       'three', 'nine', 'seven', 'six', 'eight', 'zero', 'eight', 'one',\n",
       "       'four', 'zero', 'seven', 'six', 'five', 'five', 'five', 'seven',\n",
       "       'five', 'one', 'one', 'one', 'two', 'one', 'one', 'three', 'two',\n",
       "       'three', 'one', 'five', 'four', 'eight', 'five', 'nine', 'eight',\n",
       "       'five', 'two', 'six', 'two', 'six', 'nine', 'eight', 'seven',\n",
       "       'four', 'six', 'six', 'one', 'nine', 'seven', 'seven', 'three',\n",
       "       'zero', 'six', 'three', 'zero', 'three', 'three', 'seven', 'nine',\n",
       "       'zero', 'four', 'five', 'one', 'seven', 'six', 'five', 'three',\n",
       "       'zero', 'two', 'seven', 'one', 'seven', 'four', 'one', 'nine',\n",
       "       'one', 'nine', 'seven', 'seven', 'four', 'six', 'seven', 'five',\n",
       "       'eight', 'eight', 'seven', 'nine', 'one', 'zero', 'eight', 'five',\n",
       "       'six', 'three', 'five', 'five', 'nine', 'five', 'nine', 'zero',\n",
       "       'six', 'two', 'one', 'one', 'one', 'six', 'eight', 'five', 'six',\n",
       "       'two', 'five', 'seven', 'seven', 'nine', 'two', 'one', 'three',\n",
       "       'two', 'six', 'five', 'zero', 'three', 'one', 'three', 'three',\n",
       "       'two', 'zero', 'three', 'zero', 'eight', 'nine', 'one', 'nine',\n",
       "       'six', 'six', 'six', 'six', 'one', 'five', 'five', 'eight', 'six',\n",
       "       'nine', 'four', 'one', 'four', 'nine', 'zero', 'five', 'six',\n",
       "       'nine', 'two', 'eight', 'three', 'two', 'zero', 'three', 'four',\n",
       "       'six', 'zero', 'one', 'two', 'six', 'seven', 'seven', 'two',\n",
       "       'seven', 'eight', 'eight', 'six', 'two', 'six', 'zero', 'five',\n",
       "       'two', 'three', 'eight', 'two', 'three', 'five', 'four', 'seven',\n",
       "       'one', 'one', 'seven', 'one', 'one', 'one', 'two', 'five', 'six',\n",
       "       'two', 'one', 'eight', 'four', 'one', 'two', 'eight', 'four',\n",
       "       'five', 'six', 'nine', 'eight', 'one', 'four', 'two', 'seven',\n",
       "       'four', 'four', 'five', 'nine', 'three', 'nine', 'five', 'eight',\n",
       "       'two', 'seven', 'seven', 'four', 'three', 'nine', 'zero', 'six',\n",
       "       'nine', 'six', 'eight', 'five', 'four', 'seven', 'nine', 'two',\n",
       "       'eight', 'two', 'five'], \n",
       "      dtype='<U5')"
      ]
     },
     "execution_count": 26,
     "metadata": {},
     "output_type": "execute_result"
    }
   ],
   "source": [
    "svm.predict(X_test)"
   ]
  },
  {
   "cell_type": "code",
   "execution_count": null,
   "metadata": {
    "collapsed": true
   },
   "outputs": [],
   "source": []
  }
 ],
 "metadata": {
  "kernelspec": {
   "display_name": "Python 3",
   "language": "python",
   "name": "python3"
  },
  "language_info": {
   "codemirror_mode": {
    "name": "ipython",
    "version": 3
   },
   "file_extension": ".py",
   "mimetype": "text/x-python",
   "name": "python",
   "nbconvert_exporter": "python",
   "pygments_lexer": "ipython3",
   "version": "3.5.1"
  }
 },
 "nbformat": 4,
 "nbformat_minor": 0
}
